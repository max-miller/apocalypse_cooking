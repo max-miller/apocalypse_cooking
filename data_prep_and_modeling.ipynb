{
 "cells": [
  {
   "cell_type": "code",
   "execution_count": 1,
   "metadata": {},
   "outputs": [],
   "source": [
    "import pandas as pd\n",
    "import numpy as np\n",
    "\n",
    "from bs4 import BeautifulSoup\n",
    "import requests\n",
    "import time\n",
    "import datetime"
   ]
  },
  {
   "cell_type": "markdown",
   "metadata": {},
   "source": [
    "I'm going to need a handful of helper functions before I can start trying to fit models. My plan is to have two part models which consider the words associated with the ingredients and recipe instructions, and then a second layer that considers a handful of 'meta'-data, such as the amount of time the recipe takes or the number of steps. I'll make more as needed, but in advance I know I'll need at least the following functions:\n",
    "\n",
    "1. Simple time translater: convert the string time description into a number of minutes. I say simple, because some recipes says things like \"or more, for chilling\" and I'm not going to try to classify that\n",
    "2. Instruction-ingredient stripper. Remove the ingredient names from the instructions word lists, to avoid the cross-contamination of unique ingredient names becoming correlated with preparation ratings\n",
    "3. Strip quantities out of ingredient list\n",
    "\n",
    "Going to read in one of my smaller batches so I don't need to work with a dataframe with all 19,000 recipes."
   ]
  },
  {
   "cell_type": "code",
   "execution_count": 2,
   "metadata": {},
   "outputs": [],
   "source": [
    "df = pd.read_excel('batch_1.xlsx')"
   ]
  },
  {
   "cell_type": "code",
   "execution_count": 3,
   "metadata": {},
   "outputs": [
    {
     "data": {
      "text/html": [
       "<div>\n",
       "<style scoped>\n",
       "    .dataframe tbody tr th:only-of-type {\n",
       "        vertical-align: middle;\n",
       "    }\n",
       "\n",
       "    .dataframe tbody tr th {\n",
       "        vertical-align: top;\n",
       "    }\n",
       "\n",
       "    .dataframe thead th {\n",
       "        text-align: right;\n",
       "    }\n",
       "</style>\n",
       "<table border=\"1\" class=\"dataframe\">\n",
       "  <thead>\n",
       "    <tr style=\"text-align: right;\">\n",
       "      <th></th>\n",
       "      <th>recipe</th>\n",
       "      <th>cooking_time</th>\n",
       "      <th>item_list</th>\n",
       "      <th>item_rating</th>\n",
       "      <th>instructions</th>\n",
       "      <th>instructions_rating</th>\n",
       "      <th>url</th>\n",
       "    </tr>\n",
       "  </thead>\n",
       "  <tbody>\n",
       "    <tr>\n",
       "      <th>0</th>\n",
       "      <td>Mushroom-Farro Soup With Parmesan Broth</td>\n",
       "      <td>1 1/2 hours</td>\n",
       "      <td>['1 cup pearled farro', '1 ounce dried mixed m...</td>\n",
       "      <td>NaN</td>\n",
       "      <td>['Heat oven to 300 degrees and bring a small s...</td>\n",
       "      <td>NaN</td>\n",
       "      <td>https://cooking.nytimes.com/recipes/1020933-mu...</td>\n",
       "    </tr>\n",
       "    <tr>\n",
       "      <th>1</th>\n",
       "      <td>Easiest Lentil Soup</td>\n",
       "      <td>1 hour</td>\n",
       "      <td>['6 tablespoons extra-virgin olive oil, plus m...</td>\n",
       "      <td>NaN</td>\n",
       "      <td>['Heat 1/4 cup oil in a medium pot over medium...</td>\n",
       "      <td>NaN</td>\n",
       "      <td>https://cooking.nytimes.com/recipes/1019943-ea...</td>\n",
       "    </tr>\n",
       "    <tr>\n",
       "      <th>2</th>\n",
       "      <td>Beans and Garlic Toast in Broth</td>\n",
       "      <td>2 1/4 hours, plus optional soaking</td>\n",
       "      <td>['1 cup dried beans, such as cannellini or cra...</td>\n",
       "      <td>NaN</td>\n",
       "      <td>['If you remember, soak the beans in cold wate...</td>\n",
       "      <td>NaN</td>\n",
       "      <td>https://cooking.nytimes.com/recipes/1019241-be...</td>\n",
       "    </tr>\n",
       "    <tr>\n",
       "      <th>3</th>\n",
       "      <td>Parmesan Broth</td>\n",
       "      <td>2 3/4 hours</td>\n",
       "      <td>['3 tablespoons extra-virgin olive oil', '1 la...</td>\n",
       "      <td>NaN</td>\n",
       "      <td>['In a large Dutch oven or heavy pot, heat the...</td>\n",
       "      <td>NaN</td>\n",
       "      <td>https://cooking.nytimes.com/recipes/1020934-pa...</td>\n",
       "    </tr>\n",
       "    <tr>\n",
       "      <th>4</th>\n",
       "      <td>Potato Gratin With Swiss Chard and Sumac Onions</td>\n",
       "      <td>2 1/2 hours</td>\n",
       "      <td>['¼ cup/60 milliliters olive oil', '1 ½ pounds...</td>\n",
       "      <td>NaN</td>\n",
       "      <td>['Heat oven to 375 degrees Fahrenheit/180 degr...</td>\n",
       "      <td>NaN</td>\n",
       "      <td>https://cooking.nytimes.com/recipes/1020928-po...</td>\n",
       "    </tr>\n",
       "  </tbody>\n",
       "</table>\n",
       "</div>"
      ],
      "text/plain": [
       "                                            recipe  \\\n",
       "0          Mushroom-Farro Soup With Parmesan Broth   \n",
       "1                              Easiest Lentil Soup   \n",
       "2                  Beans and Garlic Toast in Broth   \n",
       "3                                   Parmesan Broth   \n",
       "4  Potato Gratin With Swiss Chard and Sumac Onions   \n",
       "\n",
       "                         cooking_time  \\\n",
       "0                         1 1/2 hours   \n",
       "1                              1 hour   \n",
       "2  2 1/4 hours, plus optional soaking   \n",
       "3                         2 3/4 hours   \n",
       "4                         2 1/2 hours   \n",
       "\n",
       "                                           item_list  item_rating  \\\n",
       "0  ['1 cup pearled farro', '1 ounce dried mixed m...          NaN   \n",
       "1  ['6 tablespoons extra-virgin olive oil, plus m...          NaN   \n",
       "2  ['1 cup dried beans, such as cannellini or cra...          NaN   \n",
       "3  ['3 tablespoons extra-virgin olive oil', '1 la...          NaN   \n",
       "4  ['¼ cup/60 milliliters olive oil', '1 ½ pounds...          NaN   \n",
       "\n",
       "                                        instructions  instructions_rating  \\\n",
       "0  ['Heat oven to 300 degrees and bring a small s...                  NaN   \n",
       "1  ['Heat 1/4 cup oil in a medium pot over medium...                  NaN   \n",
       "2  ['If you remember, soak the beans in cold wate...                  NaN   \n",
       "3  ['In a large Dutch oven or heavy pot, heat the...                  NaN   \n",
       "4  ['Heat oven to 375 degrees Fahrenheit/180 degr...                  NaN   \n",
       "\n",
       "                                                 url  \n",
       "0  https://cooking.nytimes.com/recipes/1020933-mu...  \n",
       "1  https://cooking.nytimes.com/recipes/1019943-ea...  \n",
       "2  https://cooking.nytimes.com/recipes/1019241-be...  \n",
       "3  https://cooking.nytimes.com/recipes/1020934-pa...  \n",
       "4  https://cooking.nytimes.com/recipes/1020928-po...  "
      ]
     },
     "execution_count": 3,
     "metadata": {},
     "output_type": "execute_result"
    }
   ],
   "source": [
    "df.head()"
   ]
  },
  {
   "cell_type": "code",
   "execution_count": 15,
   "metadata": {},
   "outputs": [
    {
     "data": {
      "text/plain": [
       "['1', '1/2', 'hours']"
      ]
     },
     "execution_count": 15,
     "metadata": {},
     "output_type": "execute_result"
    }
   ],
   "source": [
    "#The existence of the fractions is tricky, they don't convert to ints or floats well, need to split them\n",
    "#and then convert to ints and then do math on them\n",
    "df.iloc[0]['cooking_time'].split()"
   ]
  },
  {
   "cell_type": "code",
   "execution_count": 22,
   "metadata": {},
   "outputs": [
    {
     "data": {
      "text/plain": [
       "['hours']"
      ]
     },
     "execution_count": 22,
     "metadata": {},
     "output_type": "execute_result"
    }
   ],
   "source": [
    "df.iloc[0]['cooking_time'].split()[2].split('/')"
   ]
  },
  {
   "cell_type": "code",
   "execution_count": 26,
   "metadata": {},
   "outputs": [
    {
     "data": {
      "text/plain": [
       "[1, 0.5, 'hours']"
      ]
     },
     "execution_count": 26,
     "metadata": {},
     "output_type": "execute_result"
    }
   ],
   "source": [
    "#First step, split and then split again to seperate all numbers\n",
    "split_up_time = []\n",
    "\n",
    "for x in df.iloc[0]['cooking_time'].split():\n",
    "    if len(x.split('/')) == 2:\n",
    "        split_up_time.append(int(x.split('/')[0])/int(x.split('/')[1]))\n",
    "    else:\n",
    "        try:\n",
    "            split_up_time.append(int(x))\n",
    "        except:\n",
    "            split_up_time.append(x)\n",
    "            \n",
    "split_up_time"
   ]
  },
  {
   "cell_type": "code",
   "execution_count": 36,
   "metadata": {},
   "outputs": [],
   "source": [
    "#Now we check if these numbers associate with hours or minutes:\n",
    "minutes = 0\n",
    "running_total = 0\n",
    "for n in range(0,len(split_up_time)):\n",
    "    if (type(split_up_time[n]) == float) or (type(split_up_time[n]) == int):\n",
    "        running_total += split_up_time[n]\n",
    "    elif (split_up_time[n] == 'hours') or (split_up_time[n] == 'hour'):\n",
    "        minutes += running_total*60\n",
    "        running_total = 0\n",
    "    elif (split_up_time[n] == 'minutes') or (split_up_time[n] == 'minute'):\n",
    "        minutes += running_total\n",
    "        running_total = 0\n",
    "#This ended up not being robust enough, because sometimes punction marks get caught up\n",
    "#The function has a similar logic, but checking the first however many characters"
   ]
  },
  {
   "cell_type": "code",
   "execution_count": 38,
   "metadata": {},
   "outputs": [
    {
     "data": {
      "text/plain": [
       "90.0"
      ]
     },
     "execution_count": 38,
     "metadata": {},
     "output_type": "execute_result"
    }
   ],
   "source": [
    "minutes"
   ]
  },
  {
   "cell_type": "code",
   "execution_count": 107,
   "metadata": {},
   "outputs": [],
   "source": [
    "def simple_time_translater(text):\n",
    "    if type(text) != str:\n",
    "        return np.nan\n",
    "    split_up_time = []\n",
    "\n",
    "    for x in text.split():\n",
    "        if len(x.split('/')) == 2:\n",
    "            split_up_time.append(int(x.split('/')[0])/int(x.split('/')[1]))\n",
    "        else:\n",
    "            try:\n",
    "                split_up_time.append(int(x))\n",
    "            except:\n",
    "                split_up_time.append(x)\n",
    "                \n",
    "    minutes = 0\n",
    "    running_total = 0\n",
    "    for n in range(0,len(split_up_time)):\n",
    "        if (type(split_up_time[n]) == float) or (type(split_up_time[n]) == int):\n",
    "            running_total += split_up_time[n]\n",
    "        elif len(split_up_time[n]) >= 7:\n",
    "            if (split_up_time[n][:6] == 'minute'):\n",
    "                minutes += running_total\n",
    "                running_total = 0\n",
    "        elif len(split_up_time[n]) >= 4:\n",
    "            if (split_up_time[n][:4] == 'hour'):\n",
    "                minutes += running_total*60\n",
    "                running_total = 0\n",
    "        \n",
    "    return minutes"
   ]
  },
  {
   "cell_type": "code",
   "execution_count": 108,
   "metadata": {},
   "outputs": [
    {
     "data": {
      "text/plain": [
       "[90.0, 60, 135.0, 165.0, 150.0, 50, 5, nan, 30, 75.0]"
      ]
     },
     "execution_count": 108,
     "metadata": {},
     "output_type": "execute_result"
    }
   ],
   "source": [
    "test_times = []\n",
    "for n in range(0,10):\n",
    "    test_times.append(simple_time_translater(df.iloc[n]['cooking_time']))\n",
    "test_times"
   ]
  },
  {
   "cell_type": "code",
   "execution_count": 66,
   "metadata": {},
   "outputs": [
    {
     "data": {
      "text/html": [
       "<div>\n",
       "<style scoped>\n",
       "    .dataframe tbody tr th:only-of-type {\n",
       "        vertical-align: middle;\n",
       "    }\n",
       "\n",
       "    .dataframe tbody tr th {\n",
       "        vertical-align: top;\n",
       "    }\n",
       "\n",
       "    .dataframe thead th {\n",
       "        text-align: right;\n",
       "    }\n",
       "</style>\n",
       "<table border=\"1\" class=\"dataframe\">\n",
       "  <thead>\n",
       "    <tr style=\"text-align: right;\">\n",
       "      <th></th>\n",
       "      <th>recipe</th>\n",
       "      <th>cooking_time</th>\n",
       "      <th>item_list</th>\n",
       "      <th>item_rating</th>\n",
       "      <th>instructions</th>\n",
       "      <th>instructions_rating</th>\n",
       "      <th>url</th>\n",
       "    </tr>\n",
       "  </thead>\n",
       "  <tbody>\n",
       "    <tr>\n",
       "      <th>0</th>\n",
       "      <td>Mushroom-Farro Soup With Parmesan Broth</td>\n",
       "      <td>1 1/2 hours</td>\n",
       "      <td>['1 cup pearled farro', '1 ounce dried mixed m...</td>\n",
       "      <td>NaN</td>\n",
       "      <td>['Heat oven to 300 degrees and bring a small s...</td>\n",
       "      <td>NaN</td>\n",
       "      <td>https://cooking.nytimes.com/recipes/1020933-mu...</td>\n",
       "    </tr>\n",
       "    <tr>\n",
       "      <th>1</th>\n",
       "      <td>Easiest Lentil Soup</td>\n",
       "      <td>1 hour</td>\n",
       "      <td>['6 tablespoons extra-virgin olive oil, plus m...</td>\n",
       "      <td>NaN</td>\n",
       "      <td>['Heat 1/4 cup oil in a medium pot over medium...</td>\n",
       "      <td>NaN</td>\n",
       "      <td>https://cooking.nytimes.com/recipes/1019943-ea...</td>\n",
       "    </tr>\n",
       "    <tr>\n",
       "      <th>2</th>\n",
       "      <td>Beans and Garlic Toast in Broth</td>\n",
       "      <td>2 1/4 hours, plus optional soaking</td>\n",
       "      <td>['1 cup dried beans, such as cannellini or cra...</td>\n",
       "      <td>NaN</td>\n",
       "      <td>['If you remember, soak the beans in cold wate...</td>\n",
       "      <td>NaN</td>\n",
       "      <td>https://cooking.nytimes.com/recipes/1019241-be...</td>\n",
       "    </tr>\n",
       "    <tr>\n",
       "      <th>3</th>\n",
       "      <td>Parmesan Broth</td>\n",
       "      <td>2 3/4 hours</td>\n",
       "      <td>['3 tablespoons extra-virgin olive oil', '1 la...</td>\n",
       "      <td>NaN</td>\n",
       "      <td>['In a large Dutch oven or heavy pot, heat the...</td>\n",
       "      <td>NaN</td>\n",
       "      <td>https://cooking.nytimes.com/recipes/1020934-pa...</td>\n",
       "    </tr>\n",
       "    <tr>\n",
       "      <th>4</th>\n",
       "      <td>Potato Gratin With Swiss Chard and Sumac Onions</td>\n",
       "      <td>2 1/2 hours</td>\n",
       "      <td>['¼ cup/60 milliliters olive oil', '1 ½ pounds...</td>\n",
       "      <td>NaN</td>\n",
       "      <td>['Heat oven to 375 degrees Fahrenheit/180 degr...</td>\n",
       "      <td>NaN</td>\n",
       "      <td>https://cooking.nytimes.com/recipes/1020928-po...</td>\n",
       "    </tr>\n",
       "    <tr>\n",
       "      <th>5</th>\n",
       "      <td>Braised Fennel With White Bean Purée</td>\n",
       "      <td>50 minutes</td>\n",
       "      <td>['2 (15-ounce) cans white beans, rinsed', '2 ½...</td>\n",
       "      <td>NaN</td>\n",
       "      <td>['Prepare the bean purée: Add the beans, 2 1/2...</td>\n",
       "      <td>NaN</td>\n",
       "      <td>https://cooking.nytimes.com/recipes/1020935-br...</td>\n",
       "    </tr>\n",
       "    <tr>\n",
       "      <th>6</th>\n",
       "      <td>Cold-Fashioned</td>\n",
       "      <td>5 minutes</td>\n",
       "      <td>[' Ice, as needed', '1 ¼ ounces Irish whiskey,...</td>\n",
       "      <td>NaN</td>\n",
       "      <td>['Fill a mixing glass halfway with ice. Add wh...</td>\n",
       "      <td>NaN</td>\n",
       "      <td>https://cooking.nytimes.com/recipes/1020905-co...</td>\n",
       "    </tr>\n",
       "    <tr>\n",
       "      <th>7</th>\n",
       "      <td>NoMad Espresso Martini</td>\n",
       "      <td>NaN</td>\n",
       "      <td>['1 ounce Mr. Black Cold Brew coffee liqueur',...</td>\n",
       "      <td>NaN</td>\n",
       "      <td>['Combine ingredients in a cocktail shaker hal...</td>\n",
       "      <td>NaN</td>\n",
       "      <td>https://cooking.nytimes.com/recipes/1020936-no...</td>\n",
       "    </tr>\n",
       "    <tr>\n",
       "      <th>8</th>\n",
       "      <td>Japanese-Style Tuna Noodle Salad</td>\n",
       "      <td>30 minutes</td>\n",
       "      <td>['¼ cup cut dried wakame seaweed', '8 ounces d...</td>\n",
       "      <td>NaN</td>\n",
       "      <td>['Bring a large pot of water to a boil over hi...</td>\n",
       "      <td>NaN</td>\n",
       "      <td>https://cooking.nytimes.com/recipes/1020939-ja...</td>\n",
       "    </tr>\n",
       "    <tr>\n",
       "      <th>9</th>\n",
       "      <td>Toor Dal (Split Yellow Pigeon Peas)</td>\n",
       "      <td>1 1/4 hours, plus soaking</td>\n",
       "      <td>['1 cup toor dal (split yellow pigeon peas)', ...</td>\n",
       "      <td>NaN</td>\n",
       "      <td>['Prepare the dal: Soak the pigeon peas in a l...</td>\n",
       "      <td>NaN</td>\n",
       "      <td>https://cooking.nytimes.com/recipes/1020907-to...</td>\n",
       "    </tr>\n",
       "  </tbody>\n",
       "</table>\n",
       "</div>"
      ],
      "text/plain": [
       "                                            recipe  \\\n",
       "0          Mushroom-Farro Soup With Parmesan Broth   \n",
       "1                              Easiest Lentil Soup   \n",
       "2                  Beans and Garlic Toast in Broth   \n",
       "3                                   Parmesan Broth   \n",
       "4  Potato Gratin With Swiss Chard and Sumac Onions   \n",
       "5             Braised Fennel With White Bean Purée   \n",
       "6                                   Cold-Fashioned   \n",
       "7                           NoMad Espresso Martini   \n",
       "8                 Japanese-Style Tuna Noodle Salad   \n",
       "9              Toor Dal (Split Yellow Pigeon Peas)   \n",
       "\n",
       "                         cooking_time  \\\n",
       "0                         1 1/2 hours   \n",
       "1                              1 hour   \n",
       "2  2 1/4 hours, plus optional soaking   \n",
       "3                         2 3/4 hours   \n",
       "4                         2 1/2 hours   \n",
       "5                          50 minutes   \n",
       "6                           5 minutes   \n",
       "7                                 NaN   \n",
       "8                          30 minutes   \n",
       "9           1 1/4 hours, plus soaking   \n",
       "\n",
       "                                           item_list  item_rating  \\\n",
       "0  ['1 cup pearled farro', '1 ounce dried mixed m...          NaN   \n",
       "1  ['6 tablespoons extra-virgin olive oil, plus m...          NaN   \n",
       "2  ['1 cup dried beans, such as cannellini or cra...          NaN   \n",
       "3  ['3 tablespoons extra-virgin olive oil', '1 la...          NaN   \n",
       "4  ['¼ cup/60 milliliters olive oil', '1 ½ pounds...          NaN   \n",
       "5  ['2 (15-ounce) cans white beans, rinsed', '2 ½...          NaN   \n",
       "6  [' Ice, as needed', '1 ¼ ounces Irish whiskey,...          NaN   \n",
       "7  ['1 ounce Mr. Black Cold Brew coffee liqueur',...          NaN   \n",
       "8  ['¼ cup cut dried wakame seaweed', '8 ounces d...          NaN   \n",
       "9  ['1 cup toor dal (split yellow pigeon peas)', ...          NaN   \n",
       "\n",
       "                                        instructions  instructions_rating  \\\n",
       "0  ['Heat oven to 300 degrees and bring a small s...                  NaN   \n",
       "1  ['Heat 1/4 cup oil in a medium pot over medium...                  NaN   \n",
       "2  ['If you remember, soak the beans in cold wate...                  NaN   \n",
       "3  ['In a large Dutch oven or heavy pot, heat the...                  NaN   \n",
       "4  ['Heat oven to 375 degrees Fahrenheit/180 degr...                  NaN   \n",
       "5  ['Prepare the bean purée: Add the beans, 2 1/2...                  NaN   \n",
       "6  ['Fill a mixing glass halfway with ice. Add wh...                  NaN   \n",
       "7  ['Combine ingredients in a cocktail shaker hal...                  NaN   \n",
       "8  ['Bring a large pot of water to a boil over hi...                  NaN   \n",
       "9  ['Prepare the dal: Soak the pigeon peas in a l...                  NaN   \n",
       "\n",
       "                                                 url  \n",
       "0  https://cooking.nytimes.com/recipes/1020933-mu...  \n",
       "1  https://cooking.nytimes.com/recipes/1019943-ea...  \n",
       "2  https://cooking.nytimes.com/recipes/1019241-be...  \n",
       "3  https://cooking.nytimes.com/recipes/1020934-pa...  \n",
       "4  https://cooking.nytimes.com/recipes/1020928-po...  \n",
       "5  https://cooking.nytimes.com/recipes/1020935-br...  \n",
       "6  https://cooking.nytimes.com/recipes/1020905-co...  \n",
       "7  https://cooking.nytimes.com/recipes/1020936-no...  \n",
       "8  https://cooking.nytimes.com/recipes/1020939-ja...  \n",
       "9  https://cooking.nytimes.com/recipes/1020907-to...  "
      ]
     },
     "execution_count": 66,
     "metadata": {},
     "output_type": "execute_result"
    }
   ],
   "source": [
    "df.head(10)"
   ]
  },
  {
   "cell_type": "markdown",
   "metadata": {},
   "source": [
    "Now to some text processing. In particular, to turn each listed set (items, instructions) into bags and then remove the items from the instructions bag.\n",
    "\n",
    "One quirk of the scraping process is that when I scraped the recipes, I created lists of ingredients and recipe steps, and then simply stored those lists nested in a dataframe, which I saved down as an excel. Reading that excel up here, it doesn't know to interpret the contents of those cells as python lists, it just has them as strings.\n",
    "\n",
    "This only matters because I was planning on having certain 'meta' features of this data as their own features in my final classication models. For instance, the number of distinct ingredients or the number of steps in the recipe. Some of these features want a list and some want a collection of words, but it's worth turning everything into the list first and reading up the indivual components to get rid of some of the extranious punctuation marks."
   ]
  },
  {
   "cell_type": "code",
   "execution_count": 120,
   "metadata": {},
   "outputs": [
    {
     "data": {
      "text/plain": [
       "['1 cup pearled farro',\n",
       " '1 ounce dried mixed mushrooms or dried porcini mushrooms, roughly torn or chopped',\n",
       " '1 tablespoon unsalted butter',\n",
       " '4 tablespoons extra-virgin olive oil',\n",
       " '1 cup minced shallots (from about 5 medium shallots)',\n",
       " ' Kosher salt and freshly ground black pepper',\n",
       " '3 garlic cloves, minced',\n",
       " '5 cups Parmesan broth',\n",
       " '⅓ cup dry white wine',\n",
       " '5 fresh thyme sprigs',\n",
       " '⅔ cup finely grated Parmesan (about 1 ounce), plus more for garnish',\n",
       " '1 pound mixed fresh mushrooms (such as beech mushrooms, hen of the woods or oyster mushrooms), roughly torn',\n",
       " '2 teaspoons sherry vinegar']"
      ]
     },
     "execution_count": 120,
     "metadata": {},
     "output_type": "execute_result"
    }
   ],
   "source": [
    "eval(df.iloc[0]['item_list'])"
   ]
  },
  {
   "cell_type": "code",
   "execution_count": 123,
   "metadata": {},
   "outputs": [
    {
     "data": {
      "text/plain": [
       "'1 cup pearled farro'"
      ]
     },
     "execution_count": 123,
     "metadata": {},
     "output_type": "execute_result"
    }
   ],
   "source": [
    "listified = eval(df.iloc[0]['item_list'])\n",
    "listified[0]"
   ]
  },
  {
   "cell_type": "code",
   "execution_count": 131,
   "metadata": {},
   "outputs": [],
   "source": [
    "#Is there a better way to test if a string could be either an integer or a float?\n",
    "de_numbered = []\n",
    "for x in listified[0].split():\n",
    "    try:\n",
    "        int(x)\n",
    "    except:\n",
    "        try:\n",
    "            float(x)\n",
    "        except:\n",
    "            de_numbered.append(x)\n",
    "        "
   ]
  },
  {
   "cell_type": "code",
   "execution_count": 132,
   "metadata": {},
   "outputs": [
    {
     "data": {
      "text/plain": [
       "['cup', 'pearled', 'farro']"
      ]
     },
     "execution_count": 132,
     "metadata": {},
     "output_type": "execute_result"
    }
   ],
   "source": [
    "de_numbered"
   ]
  },
  {
   "cell_type": "code",
   "execution_count": 133,
   "metadata": {},
   "outputs": [],
   "source": [
    "#Will this work on the special fraction symbols?\n",
    "de_numbered = []\n",
    "for x in listified[8].split():\n",
    "    try:\n",
    "        int(x)\n",
    "    except:\n",
    "        try:\n",
    "            float(x)\n",
    "        except:\n",
    "            de_numbered.append(x)"
   ]
  },
  {
   "cell_type": "code",
   "execution_count": 134,
   "metadata": {},
   "outputs": [
    {
     "data": {
      "text/plain": [
       "['⅓', 'cup', 'dry', 'white', 'wine']"
      ]
     },
     "execution_count": 134,
     "metadata": {},
     "output_type": "execute_result"
    }
   ],
   "source": [
    "#Nope\n",
    "de_numbered"
   ]
  },
  {
   "cell_type": "code",
   "execution_count": 138,
   "metadata": {},
   "outputs": [
    {
     "data": {
      "text/plain": [
       "'VULGAR FRACTION ONE THIRD'"
      ]
     },
     "execution_count": 138,
     "metadata": {},
     "output_type": "execute_result"
    }
   ],
   "source": [
    "#Some searching online suggests that there is a way to test for these special unicode characters\n",
    "import unicodedata\n",
    "unicodedata.name(de_numbered[0])"
   ]
  },
  {
   "cell_type": "code",
   "execution_count": 148,
   "metadata": {},
   "outputs": [],
   "source": [
    "#Oof, is this an ugly function! Well, it works... famous last words\n",
    "de_numbered = []\n",
    "for x in listified[8].split():\n",
    "    if len(x) == 1:\n",
    "        if unicodedata.name(x).startswith('VULGAR FRACTION'):\n",
    "            pass\n",
    "        else:\n",
    "            try:\n",
    "                int(x)\n",
    "            except:\n",
    "                try:\n",
    "                    float(x)\n",
    "                except:\n",
    "                    de_numbered.append(x)\n",
    "    else:\n",
    "        try:\n",
    "            int(x)\n",
    "        except:\n",
    "            try:\n",
    "                float(x)\n",
    "            except:\n",
    "                de_numbered.append(x)"
   ]
  },
  {
   "cell_type": "code",
   "execution_count": 145,
   "metadata": {},
   "outputs": [
    {
     "data": {
      "text/plain": [
       "['cup', 'dry', 'white', 'wine']"
      ]
     },
     "execution_count": 145,
     "metadata": {},
     "output_type": "execute_result"
    }
   ],
   "source": [
    "de_numbered"
   ]
  },
  {
   "cell_type": "code",
   "execution_count": 160,
   "metadata": {},
   "outputs": [],
   "source": [
    "import re\n",
    "\n",
    "def de_numberfy(item_list):\n",
    "    de_numbered = []\n",
    "    for item in item_list:\n",
    "        for x in item.split():\n",
    "            if len(x) == 1:\n",
    "                if unicodedata.name(x).startswith('VULGAR FRACTION'):\n",
    "                    pass\n",
    "                else:\n",
    "                    try:\n",
    "                        int(x)\n",
    "                    except:\n",
    "                        try:\n",
    "                            float(x)\n",
    "                        except:\n",
    "                            de_numbered.append(x)\n",
    "            else:\n",
    "                try:\n",
    "                    int(x)\n",
    "                except:\n",
    "                    try:\n",
    "                        float(x)\n",
    "                    except:\n",
    "                        de_numbered.append(x)\n",
    "    #A bit of regex to remove errant punctuation. Got that online, I need to learn regex...\n",
    "    de_numbered = [re.sub(r'[^\\w\\s]','',x) for x in de_numbered]\n",
    "    return de_numbered"
   ]
  },
  {
   "cell_type": "code",
   "execution_count": 161,
   "metadata": {
    "scrolled": true
   },
   "outputs": [
    {
     "data": {
      "text/plain": [
       "['cup',\n",
       " 'pearled',\n",
       " 'farro',\n",
       " 'ounce',\n",
       " 'dried',\n",
       " 'mixed',\n",
       " 'mushrooms',\n",
       " 'or',\n",
       " 'dried',\n",
       " 'porcini',\n",
       " 'mushrooms',\n",
       " 'roughly',\n",
       " 'torn',\n",
       " 'or',\n",
       " 'chopped',\n",
       " 'tablespoon',\n",
       " 'unsalted',\n",
       " 'butter',\n",
       " 'tablespoons',\n",
       " 'extravirgin',\n",
       " 'olive',\n",
       " 'oil',\n",
       " 'cup',\n",
       " 'minced',\n",
       " 'shallots',\n",
       " 'from',\n",
       " 'about',\n",
       " 'medium',\n",
       " 'shallots',\n",
       " 'Kosher',\n",
       " 'salt',\n",
       " 'and',\n",
       " 'freshly',\n",
       " 'ground',\n",
       " 'black',\n",
       " 'pepper',\n",
       " 'garlic',\n",
       " 'cloves',\n",
       " 'minced',\n",
       " 'cups',\n",
       " 'Parmesan',\n",
       " 'broth',\n",
       " 'cup',\n",
       " 'dry',\n",
       " 'white',\n",
       " 'wine',\n",
       " 'fresh',\n",
       " 'thyme',\n",
       " 'sprigs',\n",
       " 'cup',\n",
       " 'finely',\n",
       " 'grated',\n",
       " 'Parmesan',\n",
       " 'about',\n",
       " 'ounce',\n",
       " 'plus',\n",
       " 'more',\n",
       " 'for',\n",
       " 'garnish',\n",
       " 'pound',\n",
       " 'mixed',\n",
       " 'fresh',\n",
       " 'mushrooms',\n",
       " 'such',\n",
       " 'as',\n",
       " 'beech',\n",
       " 'mushrooms',\n",
       " 'hen',\n",
       " 'of',\n",
       " 'the',\n",
       " 'woods',\n",
       " 'or',\n",
       " 'oyster',\n",
       " 'mushrooms',\n",
       " 'roughly',\n",
       " 'torn',\n",
       " 'teaspoons',\n",
       " 'sherry',\n",
       " 'vinegar']"
      ]
     },
     "execution_count": 161,
     "metadata": {},
     "output_type": "execute_result"
    }
   ],
   "source": [
    "de_numberfy(listified)"
   ]
  },
  {
   "cell_type": "code",
   "execution_count": 151,
   "metadata": {},
   "outputs": [],
   "source": [
    "def instructions_bag(items_list,recipe_list):\n",
    "    de_numbered_items = de_numberfy(items_list)\n",
    "    de_numbered_instructions = de_numberfy(recipe_list)\n",
    "    \n",
    "    instructions_bag = [word for word in de_numbered_instructions if word not in de_numbered_items]\n",
    "    \n",
    "    return instructions_bag"
   ]
  },
  {
   "cell_type": "code",
   "execution_count": 162,
   "metadata": {},
   "outputs": [
    {
     "data": {
      "text/plain": [
       "['Heat',\n",
       " 'oven',\n",
       " 'to',\n",
       " 'degrees',\n",
       " 'bring',\n",
       " 'a',\n",
       " 'small',\n",
       " 'saucepan',\n",
       " 'water',\n",
       " 'to',\n",
       " 'a',\n",
       " 'boil',\n",
       " 'Spread',\n",
       " 'out',\n",
       " 'on',\n",
       " 'a',\n",
       " 'baking',\n",
       " 'sheet',\n",
       " 'in',\n",
       " 'a',\n",
       " 'single',\n",
       " 'layer',\n",
       " 'toast',\n",
       " 'minutes',\n",
       " 'stirring',\n",
       " 'once',\n",
       " 'twice',\n",
       " 'to',\n",
       " 'toast',\n",
       " 'grains',\n",
       " 'evenly',\n",
       " 'While',\n",
       " 'toasts',\n",
       " 'place',\n",
       " 'in',\n",
       " 'a',\n",
       " 'small',\n",
       " 'bowl',\n",
       " 'cover',\n",
       " 'completely',\n",
       " 'with',\n",
       " '12',\n",
       " 'hot',\n",
       " 'water',\n",
       " 'saucepan',\n",
       " 'Cover',\n",
       " 'bowl',\n",
       " 'set',\n",
       " 'aside',\n",
       " 'to',\n",
       " 'hydrate',\n",
       " 'Place',\n",
       " 'a',\n",
       " 'large',\n",
       " 'Dutch',\n",
       " 'oven',\n",
       " 'over',\n",
       " 'mediumhigh',\n",
       " 'heat',\n",
       " 'add',\n",
       " 'Once',\n",
       " 'has',\n",
       " 'melted',\n",
       " 'add',\n",
       " '12',\n",
       " 'teaspoon',\n",
       " 'sauté',\n",
       " 'until',\n",
       " 'translucent',\n",
       " 'to',\n",
       " 'minutes',\n",
       " 'Add',\n",
       " 'sauté',\n",
       " 'minutes',\n",
       " 'adding',\n",
       " 'a',\n",
       " 'splash',\n",
       " 'water',\n",
       " 'if',\n",
       " 'necessary',\n",
       " 'to',\n",
       " 'prevent',\n",
       " 'it',\n",
       " 'scorching',\n",
       " 'Stir',\n",
       " 'in',\n",
       " 'toasted',\n",
       " 'Carefully',\n",
       " 'scoop',\n",
       " 'their',\n",
       " 'soaking',\n",
       " 'liquid',\n",
       " 'add',\n",
       " 'them',\n",
       " 'to',\n",
       " 'pot',\n",
       " 'Strain',\n",
       " 'their',\n",
       " 'soaking',\n",
       " 'liquid',\n",
       " 'through',\n",
       " 'a',\n",
       " 'finemesh',\n",
       " 'sieve',\n",
       " 'into',\n",
       " 'pot',\n",
       " 'well',\n",
       " 'discarding',\n",
       " 'any',\n",
       " 'grit',\n",
       " 'left',\n",
       " 'in',\n",
       " 'sieve',\n",
       " 'Add',\n",
       " 'to',\n",
       " 'pot',\n",
       " 'bring',\n",
       " 'to',\n",
       " 'a',\n",
       " 'boil',\n",
       " 'over',\n",
       " 'high',\n",
       " 'Once',\n",
       " 'liquid',\n",
       " 'boils',\n",
       " 'lower',\n",
       " 'to',\n",
       " 'a',\n",
       " 'simmer',\n",
       " 'cook',\n",
       " 'covered',\n",
       " 'minutes',\n",
       " 'Uncover',\n",
       " 'pot',\n",
       " 'continue',\n",
       " 'to',\n",
       " 'cook',\n",
       " 'at',\n",
       " 'an',\n",
       " 'active',\n",
       " 'simmer',\n",
       " 'until',\n",
       " 'is',\n",
       " 'al',\n",
       " 'dente',\n",
       " 'swimming',\n",
       " 'in',\n",
       " 'a',\n",
       " 'lightly',\n",
       " 'creamy',\n",
       " 'another',\n",
       " 'minutes',\n",
       " 'Remove',\n",
       " 'heat',\n",
       " 'discard',\n",
       " 'stems',\n",
       " 'stir',\n",
       " 'in',\n",
       " 'Season',\n",
       " 'with',\n",
       " 'to',\n",
       " 'taste',\n",
       " 'When',\n",
       " 'is',\n",
       " 'almost',\n",
       " 'done',\n",
       " 'cook',\n",
       " 'Heat',\n",
       " '12',\n",
       " 'in',\n",
       " 'a',\n",
       " 'large',\n",
       " '12inch',\n",
       " 'skillet',\n",
       " 'over',\n",
       " 'mediumhigh',\n",
       " 'Add',\n",
       " 'half',\n",
       " 'stir',\n",
       " 'to',\n",
       " 'coat',\n",
       " 'then',\n",
       " 'cook',\n",
       " 'undisturbed',\n",
       " 'minutes',\n",
       " 'Season',\n",
       " 'with',\n",
       " 'then',\n",
       " 'cook',\n",
       " 'until',\n",
       " 'are',\n",
       " 'golden',\n",
       " 'caramelized',\n",
       " 'to',\n",
       " 'minutes',\n",
       " 'Transfer',\n",
       " 'to',\n",
       " 'a',\n",
       " 'bowl',\n",
       " 'Repeat',\n",
       " 'with',\n",
       " 'remaining',\n",
       " '12',\n",
       " 'remaining',\n",
       " 'transferring',\n",
       " 'cooked',\n",
       " 'to',\n",
       " 'bowl',\n",
       " 'Stir',\n",
       " 'into',\n",
       " 'cooked',\n",
       " 'season',\n",
       " 'to',\n",
       " 'taste',\n",
       " 'To',\n",
       " 'serve',\n",
       " 'ladle',\n",
       " 'soup',\n",
       " 'into',\n",
       " 'shallow',\n",
       " 'bowls',\n",
       " 'Top',\n",
       " 'with',\n",
       " 'seared',\n",
       " 'extra',\n",
       " 'to',\n",
       " 'taste']"
      ]
     },
     "execution_count": 162,
     "metadata": {},
     "output_type": "execute_result"
    }
   ],
   "source": [
    "items_list = eval(df.iloc[0]['item_list'])\n",
    "recipe_list = eval(df.iloc[0]['instructions'])\n",
    "instructions_bag(items_list,recipe_list)"
   ]
  },
  {
   "cell_type": "code",
   "execution_count": null,
   "metadata": {},
   "outputs": [],
   "source": []
  }
 ],
 "metadata": {
  "kernelspec": {
   "display_name": "Python 3",
   "language": "python",
   "name": "python3"
  },
  "language_info": {
   "codemirror_mode": {
    "name": "ipython",
    "version": 3
   },
   "file_extension": ".py",
   "mimetype": "text/x-python",
   "name": "python",
   "nbconvert_exporter": "python",
   "pygments_lexer": "ipython3",
   "version": "3.7.1"
  }
 },
 "nbformat": 4,
 "nbformat_minor": 2
}
