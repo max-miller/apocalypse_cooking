{
 "cells": [
  {
   "cell_type": "code",
   "execution_count": 1,
   "metadata": {},
   "outputs": [],
   "source": [
    "import pandas as pd\n",
    "import numpy as np\n",
    "\n",
    "from bs4 import BeautifulSoup\n",
    "import requests\n",
    "import time\n",
    "import datetime"
   ]
  },
  {
   "cell_type": "markdown",
   "metadata": {},
   "source": [
    "I'm going to need a handful of helper functions before I can start trying to fit models. My plan is to have two part models which consider the words associated with the ingredients and recipe instructions, and then a second layer that considers a handful of 'meta'-data, such as the amount of time the recipe takes or the number of steps. I'll make more as needed, but in advance I know I'll need at least the following functions:\n",
    "\n",
    "1. Simple time translater: conver the string time description into a number of minutes. I say simple, because some recipes says things like \"or more, for chilling\" and I'm not going to try to classify that\n",
    "2. Instruction-ingredient stripper. Remove the ingredient names from the instructions word lists, to avoid the cross-contamination of unique ingredient names becoming correlated with preparation ratings\n",
    "3. Strip quantities out of ingredient list\n",
    "\n",
    "Going to read in one of my smaller batches so I don't need to work with a dataframe with all 19,000 recipes."
   ]
  },
  {
   "cell_type": "code",
   "execution_count": 2,
   "metadata": {},
   "outputs": [],
   "source": [
    "df = pd.read_excel('batch_1.xlsx')"
   ]
  },
  {
   "cell_type": "code",
   "execution_count": 3,
   "metadata": {},
   "outputs": [
    {
     "data": {
      "text/html": [
       "<div>\n",
       "<style scoped>\n",
       "    .dataframe tbody tr th:only-of-type {\n",
       "        vertical-align: middle;\n",
       "    }\n",
       "\n",
       "    .dataframe tbody tr th {\n",
       "        vertical-align: top;\n",
       "    }\n",
       "\n",
       "    .dataframe thead th {\n",
       "        text-align: right;\n",
       "    }\n",
       "</style>\n",
       "<table border=\"1\" class=\"dataframe\">\n",
       "  <thead>\n",
       "    <tr style=\"text-align: right;\">\n",
       "      <th></th>\n",
       "      <th>recipe</th>\n",
       "      <th>cooking_time</th>\n",
       "      <th>item_list</th>\n",
       "      <th>item_rating</th>\n",
       "      <th>instructions</th>\n",
       "      <th>instructions_rating</th>\n",
       "      <th>url</th>\n",
       "    </tr>\n",
       "  </thead>\n",
       "  <tbody>\n",
       "    <tr>\n",
       "      <th>0</th>\n",
       "      <td>Mushroom-Farro Soup With Parmesan Broth</td>\n",
       "      <td>1 1/2 hours</td>\n",
       "      <td>['1 cup pearled farro', '1 ounce dried mixed m...</td>\n",
       "      <td>NaN</td>\n",
       "      <td>['Heat oven to 300 degrees and bring a small s...</td>\n",
       "      <td>NaN</td>\n",
       "      <td>https://cooking.nytimes.com/recipes/1020933-mu...</td>\n",
       "    </tr>\n",
       "    <tr>\n",
       "      <th>1</th>\n",
       "      <td>Easiest Lentil Soup</td>\n",
       "      <td>1 hour</td>\n",
       "      <td>['6 tablespoons extra-virgin olive oil, plus m...</td>\n",
       "      <td>NaN</td>\n",
       "      <td>['Heat 1/4 cup oil in a medium pot over medium...</td>\n",
       "      <td>NaN</td>\n",
       "      <td>https://cooking.nytimes.com/recipes/1019943-ea...</td>\n",
       "    </tr>\n",
       "    <tr>\n",
       "      <th>2</th>\n",
       "      <td>Beans and Garlic Toast in Broth</td>\n",
       "      <td>2 1/4 hours, plus optional soaking</td>\n",
       "      <td>['1 cup dried beans, such as cannellini or cra...</td>\n",
       "      <td>NaN</td>\n",
       "      <td>['If you remember, soak the beans in cold wate...</td>\n",
       "      <td>NaN</td>\n",
       "      <td>https://cooking.nytimes.com/recipes/1019241-be...</td>\n",
       "    </tr>\n",
       "    <tr>\n",
       "      <th>3</th>\n",
       "      <td>Parmesan Broth</td>\n",
       "      <td>2 3/4 hours</td>\n",
       "      <td>['3 tablespoons extra-virgin olive oil', '1 la...</td>\n",
       "      <td>NaN</td>\n",
       "      <td>['In a large Dutch oven or heavy pot, heat the...</td>\n",
       "      <td>NaN</td>\n",
       "      <td>https://cooking.nytimes.com/recipes/1020934-pa...</td>\n",
       "    </tr>\n",
       "    <tr>\n",
       "      <th>4</th>\n",
       "      <td>Potato Gratin With Swiss Chard and Sumac Onions</td>\n",
       "      <td>2 1/2 hours</td>\n",
       "      <td>['¼ cup/60 milliliters olive oil', '1 ½ pounds...</td>\n",
       "      <td>NaN</td>\n",
       "      <td>['Heat oven to 375 degrees Fahrenheit/180 degr...</td>\n",
       "      <td>NaN</td>\n",
       "      <td>https://cooking.nytimes.com/recipes/1020928-po...</td>\n",
       "    </tr>\n",
       "  </tbody>\n",
       "</table>\n",
       "</div>"
      ],
      "text/plain": [
       "                                            recipe  \\\n",
       "0          Mushroom-Farro Soup With Parmesan Broth   \n",
       "1                              Easiest Lentil Soup   \n",
       "2                  Beans and Garlic Toast in Broth   \n",
       "3                                   Parmesan Broth   \n",
       "4  Potato Gratin With Swiss Chard and Sumac Onions   \n",
       "\n",
       "                         cooking_time  \\\n",
       "0                         1 1/2 hours   \n",
       "1                              1 hour   \n",
       "2  2 1/4 hours, plus optional soaking   \n",
       "3                         2 3/4 hours   \n",
       "4                         2 1/2 hours   \n",
       "\n",
       "                                           item_list  item_rating  \\\n",
       "0  ['1 cup pearled farro', '1 ounce dried mixed m...          NaN   \n",
       "1  ['6 tablespoons extra-virgin olive oil, plus m...          NaN   \n",
       "2  ['1 cup dried beans, such as cannellini or cra...          NaN   \n",
       "3  ['3 tablespoons extra-virgin olive oil', '1 la...          NaN   \n",
       "4  ['¼ cup/60 milliliters olive oil', '1 ½ pounds...          NaN   \n",
       "\n",
       "                                        instructions  instructions_rating  \\\n",
       "0  ['Heat oven to 300 degrees and bring a small s...                  NaN   \n",
       "1  ['Heat 1/4 cup oil in a medium pot over medium...                  NaN   \n",
       "2  ['If you remember, soak the beans in cold wate...                  NaN   \n",
       "3  ['In a large Dutch oven or heavy pot, heat the...                  NaN   \n",
       "4  ['Heat oven to 375 degrees Fahrenheit/180 degr...                  NaN   \n",
       "\n",
       "                                                 url  \n",
       "0  https://cooking.nytimes.com/recipes/1020933-mu...  \n",
       "1  https://cooking.nytimes.com/recipes/1019943-ea...  \n",
       "2  https://cooking.nytimes.com/recipes/1019241-be...  \n",
       "3  https://cooking.nytimes.com/recipes/1020934-pa...  \n",
       "4  https://cooking.nytimes.com/recipes/1020928-po...  "
      ]
     },
     "execution_count": 3,
     "metadata": {},
     "output_type": "execute_result"
    }
   ],
   "source": [
    "df.head()"
   ]
  },
  {
   "cell_type": "code",
   "execution_count": 15,
   "metadata": {},
   "outputs": [
    {
     "data": {
      "text/plain": [
       "['1', '1/2', 'hours']"
      ]
     },
     "execution_count": 15,
     "metadata": {},
     "output_type": "execute_result"
    }
   ],
   "source": [
    "#The existence of the fractions is tricky, they don't convert to ints or floats well, need to split them\n",
    "#and then convert to ints and then do math on them\n",
    "df.iloc[0]['cooking_time'].split()"
   ]
  },
  {
   "cell_type": "code",
   "execution_count": 22,
   "metadata": {},
   "outputs": [
    {
     "data": {
      "text/plain": [
       "['hours']"
      ]
     },
     "execution_count": 22,
     "metadata": {},
     "output_type": "execute_result"
    }
   ],
   "source": [
    "df.iloc[0]['cooking_time'].split()[2].split('/')"
   ]
  },
  {
   "cell_type": "code",
   "execution_count": 26,
   "metadata": {},
   "outputs": [
    {
     "data": {
      "text/plain": [
       "[1, 0.5, 'hours']"
      ]
     },
     "execution_count": 26,
     "metadata": {},
     "output_type": "execute_result"
    }
   ],
   "source": [
    "#First step, split and then split again to seperate all numbers\n",
    "split_up_time = []\n",
    "\n",
    "for x in df.iloc[0]['cooking_time'].split():\n",
    "    if len(x.split('/')) == 2:\n",
    "        split_up_time.append(int(x.split('/')[0])/int(x.split('/')[1]))\n",
    "    else:\n",
    "        try:\n",
    "            split_up_time.append(int(x))\n",
    "        except:\n",
    "            split_up_time.append(x)\n",
    "            \n",
    "split_up_time"
   ]
  },
  {
   "cell_type": "code",
   "execution_count": 36,
   "metadata": {},
   "outputs": [],
   "source": [
    "#Now we check if these numbers associate with hours or minutes:\n",
    "minutes = 0\n",
    "running_total = 0\n",
    "for n in range(0,len(split_up_time)):\n",
    "    if (type(split_up_time[n]) == float) or (type(split_up_time[n]) == int):\n",
    "        running_total += split_up_time[n]\n",
    "    elif (split_up_time[n] == 'hours') or (split_up_time[n] == 'hour'):\n",
    "        minutes += running_total*60\n",
    "        running_total = 0\n",
    "    elif (split_up_time[n] == 'minutes') or (split_up_time[n] == 'minute'):\n",
    "        minutes += running_total\n",
    "        running_total = 0\n",
    "    "
   ]
  },
  {
   "cell_type": "code",
   "execution_count": 38,
   "metadata": {},
   "outputs": [
    {
     "data": {
      "text/plain": [
       "90.0"
      ]
     },
     "execution_count": 38,
     "metadata": {},
     "output_type": "execute_result"
    }
   ],
   "source": [
    "minutes"
   ]
  },
  {
   "cell_type": "code",
   "execution_count": 107,
   "metadata": {},
   "outputs": [],
   "source": [
    "def simple_time_translater(text):\n",
    "    if type(text) != str:\n",
    "        return np.nan\n",
    "    split_up_time = []\n",
    "\n",
    "    for x in text.split():\n",
    "        if len(x.split('/')) == 2:\n",
    "            split_up_time.append(int(x.split('/')[0])/int(x.split('/')[1]))\n",
    "        else:\n",
    "            try:\n",
    "                split_up_time.append(int(x))\n",
    "            except:\n",
    "                split_up_time.append(x)\n",
    "                \n",
    "    minutes = 0\n",
    "    running_total = 0\n",
    "    for n in range(0,len(split_up_time)):\n",
    "        if (type(split_up_time[n]) == float) or (type(split_up_time[n]) == int):\n",
    "            running_total += split_up_time[n]\n",
    "        elif len(split_up_time[n]) >= 7:\n",
    "            if (split_up_time[n][:6] == 'minute'):\n",
    "                minutes += running_total\n",
    "                running_total = 0\n",
    "        elif len(split_up_time[n]) >= 4:\n",
    "            if (split_up_time[n][:4] == 'hour'):\n",
    "                minutes += running_total*60\n",
    "                running_total = 0\n",
    "        \n",
    "    return minutes"
   ]
  },
  {
   "cell_type": "code",
   "execution_count": 108,
   "metadata": {},
   "outputs": [
    {
     "data": {
      "text/plain": [
       "[90.0, 60, 135.0, 165.0, 150.0, 50, 5, nan, 30, 75.0]"
      ]
     },
     "execution_count": 108,
     "metadata": {},
     "output_type": "execute_result"
    }
   ],
   "source": [
    "test_times = []\n",
    "for n in range(0,10):\n",
    "    test_times.append(simple_time_translater(df.iloc[n]['cooking_time']))\n",
    "test_times"
   ]
  },
  {
   "cell_type": "code",
   "execution_count": 66,
   "metadata": {},
   "outputs": [
    {
     "data": {
      "text/html": [
       "<div>\n",
       "<style scoped>\n",
       "    .dataframe tbody tr th:only-of-type {\n",
       "        vertical-align: middle;\n",
       "    }\n",
       "\n",
       "    .dataframe tbody tr th {\n",
       "        vertical-align: top;\n",
       "    }\n",
       "\n",
       "    .dataframe thead th {\n",
       "        text-align: right;\n",
       "    }\n",
       "</style>\n",
       "<table border=\"1\" class=\"dataframe\">\n",
       "  <thead>\n",
       "    <tr style=\"text-align: right;\">\n",
       "      <th></th>\n",
       "      <th>recipe</th>\n",
       "      <th>cooking_time</th>\n",
       "      <th>item_list</th>\n",
       "      <th>item_rating</th>\n",
       "      <th>instructions</th>\n",
       "      <th>instructions_rating</th>\n",
       "      <th>url</th>\n",
       "    </tr>\n",
       "  </thead>\n",
       "  <tbody>\n",
       "    <tr>\n",
       "      <th>0</th>\n",
       "      <td>Mushroom-Farro Soup With Parmesan Broth</td>\n",
       "      <td>1 1/2 hours</td>\n",
       "      <td>['1 cup pearled farro', '1 ounce dried mixed m...</td>\n",
       "      <td>NaN</td>\n",
       "      <td>['Heat oven to 300 degrees and bring a small s...</td>\n",
       "      <td>NaN</td>\n",
       "      <td>https://cooking.nytimes.com/recipes/1020933-mu...</td>\n",
       "    </tr>\n",
       "    <tr>\n",
       "      <th>1</th>\n",
       "      <td>Easiest Lentil Soup</td>\n",
       "      <td>1 hour</td>\n",
       "      <td>['6 tablespoons extra-virgin olive oil, plus m...</td>\n",
       "      <td>NaN</td>\n",
       "      <td>['Heat 1/4 cup oil in a medium pot over medium...</td>\n",
       "      <td>NaN</td>\n",
       "      <td>https://cooking.nytimes.com/recipes/1019943-ea...</td>\n",
       "    </tr>\n",
       "    <tr>\n",
       "      <th>2</th>\n",
       "      <td>Beans and Garlic Toast in Broth</td>\n",
       "      <td>2 1/4 hours, plus optional soaking</td>\n",
       "      <td>['1 cup dried beans, such as cannellini or cra...</td>\n",
       "      <td>NaN</td>\n",
       "      <td>['If you remember, soak the beans in cold wate...</td>\n",
       "      <td>NaN</td>\n",
       "      <td>https://cooking.nytimes.com/recipes/1019241-be...</td>\n",
       "    </tr>\n",
       "    <tr>\n",
       "      <th>3</th>\n",
       "      <td>Parmesan Broth</td>\n",
       "      <td>2 3/4 hours</td>\n",
       "      <td>['3 tablespoons extra-virgin olive oil', '1 la...</td>\n",
       "      <td>NaN</td>\n",
       "      <td>['In a large Dutch oven or heavy pot, heat the...</td>\n",
       "      <td>NaN</td>\n",
       "      <td>https://cooking.nytimes.com/recipes/1020934-pa...</td>\n",
       "    </tr>\n",
       "    <tr>\n",
       "      <th>4</th>\n",
       "      <td>Potato Gratin With Swiss Chard and Sumac Onions</td>\n",
       "      <td>2 1/2 hours</td>\n",
       "      <td>['¼ cup/60 milliliters olive oil', '1 ½ pounds...</td>\n",
       "      <td>NaN</td>\n",
       "      <td>['Heat oven to 375 degrees Fahrenheit/180 degr...</td>\n",
       "      <td>NaN</td>\n",
       "      <td>https://cooking.nytimes.com/recipes/1020928-po...</td>\n",
       "    </tr>\n",
       "    <tr>\n",
       "      <th>5</th>\n",
       "      <td>Braised Fennel With White Bean Purée</td>\n",
       "      <td>50 minutes</td>\n",
       "      <td>['2 (15-ounce) cans white beans, rinsed', '2 ½...</td>\n",
       "      <td>NaN</td>\n",
       "      <td>['Prepare the bean purée: Add the beans, 2 1/2...</td>\n",
       "      <td>NaN</td>\n",
       "      <td>https://cooking.nytimes.com/recipes/1020935-br...</td>\n",
       "    </tr>\n",
       "    <tr>\n",
       "      <th>6</th>\n",
       "      <td>Cold-Fashioned</td>\n",
       "      <td>5 minutes</td>\n",
       "      <td>[' Ice, as needed', '1 ¼ ounces Irish whiskey,...</td>\n",
       "      <td>NaN</td>\n",
       "      <td>['Fill a mixing glass halfway with ice. Add wh...</td>\n",
       "      <td>NaN</td>\n",
       "      <td>https://cooking.nytimes.com/recipes/1020905-co...</td>\n",
       "    </tr>\n",
       "    <tr>\n",
       "      <th>7</th>\n",
       "      <td>NoMad Espresso Martini</td>\n",
       "      <td>NaN</td>\n",
       "      <td>['1 ounce Mr. Black Cold Brew coffee liqueur',...</td>\n",
       "      <td>NaN</td>\n",
       "      <td>['Combine ingredients in a cocktail shaker hal...</td>\n",
       "      <td>NaN</td>\n",
       "      <td>https://cooking.nytimes.com/recipes/1020936-no...</td>\n",
       "    </tr>\n",
       "    <tr>\n",
       "      <th>8</th>\n",
       "      <td>Japanese-Style Tuna Noodle Salad</td>\n",
       "      <td>30 minutes</td>\n",
       "      <td>['¼ cup cut dried wakame seaweed', '8 ounces d...</td>\n",
       "      <td>NaN</td>\n",
       "      <td>['Bring a large pot of water to a boil over hi...</td>\n",
       "      <td>NaN</td>\n",
       "      <td>https://cooking.nytimes.com/recipes/1020939-ja...</td>\n",
       "    </tr>\n",
       "    <tr>\n",
       "      <th>9</th>\n",
       "      <td>Toor Dal (Split Yellow Pigeon Peas)</td>\n",
       "      <td>1 1/4 hours, plus soaking</td>\n",
       "      <td>['1 cup toor dal (split yellow pigeon peas)', ...</td>\n",
       "      <td>NaN</td>\n",
       "      <td>['Prepare the dal: Soak the pigeon peas in a l...</td>\n",
       "      <td>NaN</td>\n",
       "      <td>https://cooking.nytimes.com/recipes/1020907-to...</td>\n",
       "    </tr>\n",
       "  </tbody>\n",
       "</table>\n",
       "</div>"
      ],
      "text/plain": [
       "                                            recipe  \\\n",
       "0          Mushroom-Farro Soup With Parmesan Broth   \n",
       "1                              Easiest Lentil Soup   \n",
       "2                  Beans and Garlic Toast in Broth   \n",
       "3                                   Parmesan Broth   \n",
       "4  Potato Gratin With Swiss Chard and Sumac Onions   \n",
       "5             Braised Fennel With White Bean Purée   \n",
       "6                                   Cold-Fashioned   \n",
       "7                           NoMad Espresso Martini   \n",
       "8                 Japanese-Style Tuna Noodle Salad   \n",
       "9              Toor Dal (Split Yellow Pigeon Peas)   \n",
       "\n",
       "                         cooking_time  \\\n",
       "0                         1 1/2 hours   \n",
       "1                              1 hour   \n",
       "2  2 1/4 hours, plus optional soaking   \n",
       "3                         2 3/4 hours   \n",
       "4                         2 1/2 hours   \n",
       "5                          50 minutes   \n",
       "6                           5 minutes   \n",
       "7                                 NaN   \n",
       "8                          30 minutes   \n",
       "9           1 1/4 hours, plus soaking   \n",
       "\n",
       "                                           item_list  item_rating  \\\n",
       "0  ['1 cup pearled farro', '1 ounce dried mixed m...          NaN   \n",
       "1  ['6 tablespoons extra-virgin olive oil, plus m...          NaN   \n",
       "2  ['1 cup dried beans, such as cannellini or cra...          NaN   \n",
       "3  ['3 tablespoons extra-virgin olive oil', '1 la...          NaN   \n",
       "4  ['¼ cup/60 milliliters olive oil', '1 ½ pounds...          NaN   \n",
       "5  ['2 (15-ounce) cans white beans, rinsed', '2 ½...          NaN   \n",
       "6  [' Ice, as needed', '1 ¼ ounces Irish whiskey,...          NaN   \n",
       "7  ['1 ounce Mr. Black Cold Brew coffee liqueur',...          NaN   \n",
       "8  ['¼ cup cut dried wakame seaweed', '8 ounces d...          NaN   \n",
       "9  ['1 cup toor dal (split yellow pigeon peas)', ...          NaN   \n",
       "\n",
       "                                        instructions  instructions_rating  \\\n",
       "0  ['Heat oven to 300 degrees and bring a small s...                  NaN   \n",
       "1  ['Heat 1/4 cup oil in a medium pot over medium...                  NaN   \n",
       "2  ['If you remember, soak the beans in cold wate...                  NaN   \n",
       "3  ['In a large Dutch oven or heavy pot, heat the...                  NaN   \n",
       "4  ['Heat oven to 375 degrees Fahrenheit/180 degr...                  NaN   \n",
       "5  ['Prepare the bean purée: Add the beans, 2 1/2...                  NaN   \n",
       "6  ['Fill a mixing glass halfway with ice. Add wh...                  NaN   \n",
       "7  ['Combine ingredients in a cocktail shaker hal...                  NaN   \n",
       "8  ['Bring a large pot of water to a boil over hi...                  NaN   \n",
       "9  ['Prepare the dal: Soak the pigeon peas in a l...                  NaN   \n",
       "\n",
       "                                                 url  \n",
       "0  https://cooking.nytimes.com/recipes/1020933-mu...  \n",
       "1  https://cooking.nytimes.com/recipes/1019943-ea...  \n",
       "2  https://cooking.nytimes.com/recipes/1019241-be...  \n",
       "3  https://cooking.nytimes.com/recipes/1020934-pa...  \n",
       "4  https://cooking.nytimes.com/recipes/1020928-po...  \n",
       "5  https://cooking.nytimes.com/recipes/1020935-br...  \n",
       "6  https://cooking.nytimes.com/recipes/1020905-co...  \n",
       "7  https://cooking.nytimes.com/recipes/1020936-no...  \n",
       "8  https://cooking.nytimes.com/recipes/1020939-ja...  \n",
       "9  https://cooking.nytimes.com/recipes/1020907-to...  "
      ]
     },
     "execution_count": 66,
     "metadata": {},
     "output_type": "execute_result"
    }
   ],
   "source": [
    "df.head(10)"
   ]
  },
  {
   "cell_type": "code",
   "execution_count": null,
   "metadata": {},
   "outputs": [],
   "source": []
  }
 ],
 "metadata": {
  "kernelspec": {
   "display_name": "Python 3",
   "language": "python",
   "name": "python3"
  },
  "language_info": {
   "codemirror_mode": {
    "name": "ipython",
    "version": 3
   },
   "file_extension": ".py",
   "mimetype": "text/x-python",
   "name": "python",
   "nbconvert_exporter": "python",
   "pygments_lexer": "ipython3",
   "version": "3.7.1"
  }
 },
 "nbformat": 4,
 "nbformat_minor": 2
}
