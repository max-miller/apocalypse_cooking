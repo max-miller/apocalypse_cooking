{
 "cells": [
  {
   "cell_type": "code",
   "execution_count": 1,
   "metadata": {},
   "outputs": [],
   "source": [
    "import pandas as pd\n",
    "import numpy as np\n",
    "\n",
    "from bs4 import BeautifulSoup\n",
    "import requests\n",
    "import time\n",
    "import datetime"
   ]
  },
  {
   "cell_type": "markdown",
   "metadata": {},
   "source": [
    "Scraping the relevant information from any given NYT recipe, simply taking in a url.\n",
    "\n",
    "Largely pretty straightforward. Only a couple of possible exceptions. For one, some recipes have things split between multiple sections: a recipe that has two seperate seeming components might list ingredients for component one and then put component two in a second div.\n",
    "\n",
    "Another is that certain recipes, particularly drink recipes, might not have a cooking time. I put a try/except breaker in the final function to deal with this.\n",
    "\n",
    "I ran into another couple of excpetions in the form of 'no recipe recipes' which didn't have ingredients lists or steps. What a nuisance! I'm only looking for things with a bare-minimum of usable info here, so I chose to ignore those all together."
   ]
  },
  {
   "cell_type": "code",
   "execution_count": 2,
   "metadata": {},
   "outputs": [],
   "source": [
    "session = requests.Session()\n",
    "\n",
    "req = session.get('https://cooking.nytimes.com/recipes/1013062-cuban-black-beans?action=click&region=Sam%20Sifton%27s%20Suggestions&rank=1')\n",
    "soup = BeautifulSoup(req.text, 'lxml')"
   ]
  },
  {
   "cell_type": "code",
   "execution_count": 42,
   "metadata": {},
   "outputs": [
    {
     "data": {
      "text/plain": [
       "'Cuban Black Beans'"
      ]
     },
     "execution_count": 42,
     "metadata": {},
     "output_type": "execute_result"
    }
   ],
   "source": [
    "#find title\n",
    "soup.find('div', class_= 'title-container').get_text().strip()"
   ]
  },
  {
   "cell_type": "code",
   "execution_count": 43,
   "metadata": {},
   "outputs": [
    {
     "data": {
      "text/plain": [
       "['Time', '45 minutes']"
      ]
     },
     "execution_count": 43,
     "metadata": {},
     "output_type": "execute_result"
    }
   ],
   "source": [
    "#find time\n",
    "soup.find('ul', class_= 'recipe-time-yield').find_all('li')[1].get_text().strip().split('\\n')"
   ]
  },
  {
   "cell_type": "code",
   "execution_count": 51,
   "metadata": {},
   "outputs": [
    {
     "data": {
      "text/plain": [
       "5"
      ]
     },
     "execution_count": 51,
     "metadata": {},
     "output_type": "execute_result"
    }
   ],
   "source": [
    "#find star rating\n",
    "int(soup.find('span', itemprop= \"ratingValue\").text)"
   ]
  },
  {
   "cell_type": "code",
   "execution_count": 66,
   "metadata": {},
   "outputs": [
    {
     "data": {
      "text/plain": [
       "['green peppers, stemmed and seeded',\n",
       " 'garlic cloves',\n",
       " 'pound dried black beans, rinsed and picked over to remove any stones',\n",
       " 'smoked ham hock',\n",
       " 'bay leaves',\n",
       " 'teaspoons salt, or to taste',\n",
       " 'cup olive oil',\n",
       " 'slices thick bacon, cut into 1/2-inch pieces',\n",
       " 'Spanish onion, diced',\n",
       " 'jalapeño, stemmed and finely chopped',\n",
       " 'teaspoon dried oregano',\n",
       " 'teaspoon ground cumin',\n",
       " 'teaspoon freshly ground black pepper',\n",
       " 'tablespoons distilled white vinegar',\n",
       " 'tablespoon turbinado or other brown sugar']"
      ]
     },
     "execution_count": 66,
     "metadata": {},
     "output_type": "execute_result"
    }
   ],
   "source": [
    "#list of ingredients\n",
    "items = []\n",
    "for item in soup.find('ul', class_= 'recipe-ingredients').find_all('span', class_='ingredient-name'):\n",
    "    items.append(item.text.strip())\n",
    "\n",
    "items\n"
   ]
  },
  {
   "cell_type": "code",
   "execution_count": 68,
   "metadata": {},
   "outputs": [
    {
     "data": {
      "text/plain": [
       "['1 ½', '10', '1', '1', '2', '5', '¼', '4', '1', '1', '1', '½', '½', '3', '1']"
      ]
     },
     "execution_count": 68,
     "metadata": {},
     "output_type": "execute_result"
    }
   ],
   "source": [
    "counts = []\n",
    "for count in soup.find('ul', class_= 'recipe-ingredients').find_all('span', class_='quantity'):\n",
    "    counts.append(count.text.strip())\n",
    "    \n",
    "counts"
   ]
  },
  {
   "cell_type": "code",
   "execution_count": 71,
   "metadata": {},
   "outputs": [
    {
     "data": {
      "text/plain": [
       "['1 ½ green peppers, stemmed and seeded',\n",
       " '10 garlic cloves',\n",
       " '1 pound dried black beans, rinsed and picked over to remove any stones',\n",
       " '1 smoked ham hock',\n",
       " '2 bay leaves',\n",
       " '5 teaspoons salt, or to taste',\n",
       " '¼ cup olive oil',\n",
       " '4 slices thick bacon, cut into 1/2-inch pieces',\n",
       " '1 Spanish onion, diced',\n",
       " '1 jalapeño, stemmed and finely chopped',\n",
       " '1 teaspoon dried oregano',\n",
       " '½ teaspoon ground cumin',\n",
       " '½ teaspoon freshly ground black pepper',\n",
       " '3 tablespoons distilled white vinegar',\n",
       " '1 tablespoon turbinado or other brown sugar']"
      ]
     },
     "execution_count": 71,
     "metadata": {},
     "output_type": "execute_result"
    }
   ],
   "source": [
    "combined = []\n",
    "for n in range(0,len(items)):\n",
    "    combined.append(counts[n]+' '+items[n])\n",
    "combined"
   ]
  },
  {
   "cell_type": "code",
   "execution_count": 84,
   "metadata": {},
   "outputs": [
    {
     "data": {
      "text/plain": [
       "['Cut 1 green pepper into 1-inch squares. Smash and peel 4 of the garlic cloves. Put the green pepper and garlic into a large pot with the beans, ham hock, bay leaves and 1 tablespoon salt. Add 2 quarts water and bring to a boil. Cover the pot and simmer until the beans are tender, an hour or more.',\n",
       " 'Meanwhile, make a sofrito. Cut the remaining ½ green pepper into ¼-inch dice. Peel and finely chop the remaining garlic. Heat the olive oil in a very large skillet over medium-high heat. Add the bacon and cook, stirring occasionally, until it starts to brown, about 5 minutes. Add the green pepper and onion and cook, stirring, until slightly softened, about 3 minutes. Add the garlic, jalapeño (leave out the seeds if you don’t want it too spicy), oregano, cumin, black pepper and 2 teaspoons salt and stir for another minute. Pour in the vinegar and scrape any browned bits from bottom of pan with a wooden spoon. This is your sofrito.',\n",
       " 'When the beans are cooked, discard the bay leaf. Remove and set aside the ham hock and let it cool. Transfer 1 cup of beans to small bowl, mash them into a paste with the back of a fork and return to the pot. Add the sofrito, then the sugar. Pull the meat from the ham hock, leaving behind any white sinew or gristle. Chop the ham into ½-inch pieces and return it to the bean pot.',\n",
       " 'Stir the beans well and bring to a boil over medium heat, then lower to a simmer and cook, uncovered, for 20 minutes or so, skimming any foam from the top. Taste for salt and serve with white rice.']"
      ]
     },
     "execution_count": 84,
     "metadata": {},
     "output_type": "execute_result"
    }
   ],
   "source": [
    "#cooking steps\n",
    "steps = []\n",
    "\n",
    "for step in soup.find('ol', class_= 'recipe-steps').find_all('li'):\n",
    "    steps.append(step.text)\n",
    "\n",
    "steps"
   ]
  },
  {
   "cell_type": "code",
   "execution_count": 3,
   "metadata": {},
   "outputs": [],
   "source": [
    "def recipe_compiler(url):\n",
    "    req = session.get(url)\n",
    "    soup = BeautifulSoup(req.text, 'lxml')\n",
    "    \n",
    "    title = soup.find('div', class_= 'title-container').get_text().strip()\n",
    "    try:\n",
    "        time = soup.find('ul', class_= 'recipe-time-yield').find_all('li')[1].get_text().strip().split('\\n')[1]\n",
    "    except:\n",
    "        time = 'N/A'\n",
    "    \n",
    "    items = []\n",
    "    for group in soup.find_all('ul', class_= 'recipe-ingredients'):\n",
    "        for item in group.find_all('span', class_='ingredient-name'):\n",
    "            items.append(item.text.strip())\n",
    "            \n",
    "    counts = []\n",
    "    for group in soup.find_all('ul', class_= 'recipe-ingredients'):\n",
    "        for item in group.find_all('span', class_='quantity'):\n",
    "            counts.append(item.text.strip())\n",
    "    \n",
    "    combined = []\n",
    "    for n in range(0,len(items)):\n",
    "        combined.append(counts[n]+' '+items[n])\n",
    "    \n",
    "    steps = []\n",
    "\n",
    "    for step in soup.find('ol', class_= 'recipe-steps').find_all('li'):\n",
    "        steps.append(step.text)\n",
    "    \n",
    "    return {'recipe':title, 'cooking_time':time, 'item_list':combined,'instructions':steps,'url':url}"
   ]
  },
  {
   "cell_type": "code",
   "execution_count": 110,
   "metadata": {},
   "outputs": [
    {
     "data": {
      "text/plain": [
       "{'recipe': 'Cuban Black Beans',\n",
       " 'cooking_time': '45 minutes',\n",
       " 'item_list': ['1 ½ green peppers, stemmed and seeded',\n",
       "  '10 garlic cloves',\n",
       "  '1 pound dried black beans, rinsed and picked over to remove any stones',\n",
       "  '1 smoked ham hock',\n",
       "  '2 bay leaves',\n",
       "  '5 teaspoons salt, or to taste',\n",
       "  '¼ cup olive oil',\n",
       "  '4 slices thick bacon, cut into 1/2-inch pieces',\n",
       "  '1 Spanish onion, diced',\n",
       "  '1 jalapeño, stemmed and finely chopped',\n",
       "  '1 teaspoon dried oregano',\n",
       "  '½ teaspoon ground cumin',\n",
       "  '½ teaspoon freshly ground black pepper',\n",
       "  '3 tablespoons distilled white vinegar',\n",
       "  '1 tablespoon turbinado or other brown sugar'],\n",
       " 'instructions': ['Cut 1 green pepper into 1-inch squares. Smash and peel 4 of the garlic cloves. Put the green pepper and garlic into a large pot with the beans, ham hock, bay leaves and 1 tablespoon salt. Add 2 quarts water and bring to a boil. Cover the pot and simmer until the beans are tender, an hour or more.',\n",
       "  'Meanwhile, make a sofrito. Cut the remaining ½ green pepper into ¼-inch dice. Peel and finely chop the remaining garlic. Heat the olive oil in a very large skillet over medium-high heat. Add the bacon and cook, stirring occasionally, until it starts to brown, about 5 minutes. Add the green pepper and onion and cook, stirring, until slightly softened, about 3 minutes. Add the garlic, jalapeño (leave out the seeds if you don’t want it too spicy), oregano, cumin, black pepper and 2 teaspoons salt and stir for another minute. Pour in the vinegar and scrape any browned bits from bottom of pan with a wooden spoon. This is your sofrito.',\n",
       "  'When the beans are cooked, discard the bay leaf. Remove and set aside the ham hock and let it cool. Transfer 1 cup of beans to small bowl, mash them into a paste with the back of a fork and return to the pot. Add the sofrito, then the sugar. Pull the meat from the ham hock, leaving behind any white sinew or gristle. Chop the ham into ½-inch pieces and return it to the bean pot.',\n",
       "  'Stir the beans well and bring to a boil over medium heat, then lower to a simmer and cook, uncovered, for 20 minutes or so, skimming any foam from the top. Taste for salt and serve with white rice.'],\n",
       " 'url': 'https://cooking.nytimes.com/recipes/1013062-cuban-black-beans?action=click&region=Sam%20Sifton%27s%20Suggestions&rank=1'}"
      ]
     },
     "execution_count": 110,
     "metadata": {},
     "output_type": "execute_result"
    }
   ],
   "source": [
    "url = 'https://cooking.nytimes.com/recipes/1013062-cuban-black-beans?action=click&region=Sam%20Sifton%27s%20Suggestions&rank=1'\n",
    "recipe_compiler(url)"
   ]
  },
  {
   "cell_type": "code",
   "execution_count": 121,
   "metadata": {},
   "outputs": [
    {
     "data": {
      "text/html": [
       "<div>\n",
       "<style scoped>\n",
       "    .dataframe tbody tr th:only-of-type {\n",
       "        vertical-align: middle;\n",
       "    }\n",
       "\n",
       "    .dataframe tbody tr th {\n",
       "        vertical-align: top;\n",
       "    }\n",
       "\n",
       "    .dataframe thead th {\n",
       "        text-align: right;\n",
       "    }\n",
       "</style>\n",
       "<table border=\"1\" class=\"dataframe\">\n",
       "  <thead>\n",
       "    <tr style=\"text-align: right;\">\n",
       "      <th></th>\n",
       "      <th>cooking_time</th>\n",
       "      <th>instructions</th>\n",
       "      <th>item_list</th>\n",
       "      <th>recipe</th>\n",
       "      <th>url</th>\n",
       "    </tr>\n",
       "  </thead>\n",
       "  <tbody>\n",
       "    <tr>\n",
       "      <th>0</th>\n",
       "      <td>1 1/2 hours, plus cooling</td>\n",
       "      <td>[Heat oven to 350 degrees. Grease a 9-by-13-in...</td>\n",
       "      <td>[1 ½ cups/340 grams cold unsalted butter (3 st...</td>\n",
       "      <td>Bittersweet Brownie Shortbread</td>\n",
       "      <td>https://cooking.nytimes.com/recipes/1020851-bi...</td>\n",
       "    </tr>\n",
       "  </tbody>\n",
       "</table>\n",
       "</div>"
      ],
      "text/plain": [
       "                cooking_time  \\\n",
       "0  1 1/2 hours, plus cooling   \n",
       "\n",
       "                                        instructions  \\\n",
       "0  [Heat oven to 350 degrees. Grease a 9-by-13-in...   \n",
       "\n",
       "                                           item_list  \\\n",
       "0  [1 ½ cups/340 grams cold unsalted butter (3 st...   \n",
       "\n",
       "                           recipe  \\\n",
       "0  Bittersweet Brownie Shortbread   \n",
       "\n",
       "                                                 url  \n",
       "0  https://cooking.nytimes.com/recipes/1020851-bi...  "
      ]
     },
     "execution_count": 121,
     "metadata": {},
     "output_type": "execute_result"
    }
   ],
   "source": [
    "url = 'https://cooking.nytimes.com/recipes/1020851-bittersweet-brownie-shortbread?action=click&module=Global%20Search%20Recipe%20Card&pgType=search&rank=74'\n",
    "pd.DataFrame([recipe_compiler(url)])"
   ]
  },
  {
   "cell_type": "markdown",
   "metadata": {},
   "source": [
    "Now to compile a list of urls. I do believe that this will be reasonably easy. An empty search returns results, and it seems like the urls for page 2 onward of the results follows a simple pattern, but we'll see.\n",
    "\n"
   ]
  },
  {
   "cell_type": "code",
   "execution_count": 95,
   "metadata": {
    "scrolled": true
   },
   "outputs": [],
   "source": [
    "url = 'https://cooking.nytimes.com/search?q=&page=1'\n",
    "req = session.get(url)\n",
    "soup = BeautifulSoup(req.text, 'lxml')\n"
   ]
  },
  {
   "cell_type": "code",
   "execution_count": 100,
   "metadata": {},
   "outputs": [
    {
     "data": {
      "text/plain": [
       "'/recipes/1020933-mushroom-farro-soup-with-parmesan-broth'"
      ]
     },
     "execution_count": 100,
     "metadata": {},
     "output_type": "execute_result"
    }
   ],
   "source": [
    "soup.find('article',class_='card recipe-card')['data-url']"
   ]
  },
  {
   "cell_type": "code",
   "execution_count": 103,
   "metadata": {},
   "outputs": [
    {
     "data": {
      "text/plain": [
       "['https://cooking.nytimes.com/recipes/1020933-mushroom-farro-soup-with-parmesan-broth',\n",
       " 'https://cooking.nytimes.com/recipes/1019943-easiest-lentil-soup',\n",
       " 'https://cooking.nytimes.com/recipes/1019241-beans-and-garlic-toast-in-broth',\n",
       " 'https://cooking.nytimes.com/recipes/1020934-parmesan-broth',\n",
       " 'https://cooking.nytimes.com/recipes/1020928-potato-gratin-with-swiss-chard-and-sumac-onions',\n",
       " 'https://cooking.nytimes.com/recipes/1020935-braised-fennel-with-white-bean-puree',\n",
       " 'https://cooking.nytimes.com/recipes/1020905-cold-fashioned',\n",
       " 'https://cooking.nytimes.com/recipes/1020936-nomad-espresso-martini',\n",
       " 'https://cooking.nytimes.com/recipes/1020939-japanese-style-tuna-noodle-salad',\n",
       " 'https://cooking.nytimes.com/recipes/1020907-toor-dal-split-yellow-pigeon-peas',\n",
       " 'https://cooking.nytimes.com/recipes/1020914-meen-gassi-fish-curry',\n",
       " 'https://cooking.nytimes.com/recipes/1020919-spatchcocked-chicken-with-herb-butter',\n",
       " 'https://cooking.nytimes.com/recipes/1020921-scalloped-potato-gratin',\n",
       " 'https://cooking.nytimes.com/recipes/1020908-dosa',\n",
       " 'https://cooking.nytimes.com/recipes/1020910-aloo-masala-spiced-potatoes',\n",
       " 'https://cooking.nytimes.com/recipes/1020915-lamb-biryani',\n",
       " 'https://cooking.nytimes.com/recipes/1020922-campari-olive-oil-cake',\n",
       " 'https://cooking.nytimes.com/recipes/1020927-pork-noodle-soup-with-ginger-and-toasted-garlic',\n",
       " 'https://cooking.nytimes.com/recipes/1020909-gajjara-kosambari-carrot-salad',\n",
       " 'https://cooking.nytimes.com/recipes/1020911-matar-kachori-fried-pea-filled-pastries',\n",
       " 'https://cooking.nytimes.com/recipes/1020912-egg-curry',\n",
       " 'https://cooking.nytimes.com/recipes/1020906-roti',\n",
       " 'https://cooking.nytimes.com/recipes/1020913-keema-spiced-ground-meat',\n",
       " 'https://cooking.nytimes.com/recipes/1020920-asparagus-goat-cheese-and-tarragon-tart',\n",
       " 'https://cooking.nytimes.com/recipes/1020932-frozen-irish-coffee',\n",
       " 'https://cooking.nytimes.com/recipes/1020931-chocolate-peanut-butter-bundt-cake',\n",
       " 'https://cooking.nytimes.com/recipes/1020930-mashed-cauliflower',\n",
       " 'https://cooking.nytimes.com/recipes/1020929-vegan-lasagna',\n",
       " 'https://cooking.nytimes.com/recipes/1020903-apple-pie-circus-style',\n",
       " 'https://cooking.nytimes.com/recipes/1020926-roasted-tomato-and-white-bean-stew',\n",
       " 'https://cooking.nytimes.com/recipes/1020925-boxty-irish-potato-pancakes',\n",
       " 'https://cooking.nytimes.com/recipes/1020924-creamed-greens-potpie',\n",
       " 'https://cooking.nytimes.com/recipes/1020890-slow-roasted-duck-with-mashed-white-beans-sizzled-herbs-and-olives',\n",
       " 'https://cooking.nytimes.com/recipes/1020895-pretzel-shortbread',\n",
       " 'https://cooking.nytimes.com/recipes/1020865-vegan-turkish-kebabs-with-sumac-onions-and-garlic-dill-mayonnaise',\n",
       " 'https://cooking.nytimes.com/recipes/1020889-steamed-clams-with-garlic-parsley-butter-and-leeks',\n",
       " 'https://cooking.nytimes.com/recipes/1020891-fresh-ricotta-with-rhubarb-ginger-and-cardamom',\n",
       " 'https://cooking.nytimes.com/recipes/1020866-vegan-chili',\n",
       " 'https://cooking.nytimes.com/recipes/1020867-vegan-cheeseburgers',\n",
       " 'https://cooking.nytimes.com/recipes/1020893-orecchiette-with-fennel-and-sausage',\n",
       " 'https://cooking.nytimes.com/recipes/1020923-slow-cooker-honey-soy-braised-pork-with-lime-and-ginger',\n",
       " 'https://cooking.nytimes.com/recipes/1020918-honey-soy-braised-pork-with-lime-and-ginger',\n",
       " 'https://cooking.nytimes.com/recipes/1020917-guinness-brownies',\n",
       " 'https://cooking.nytimes.com/recipes/1020916-tater-tot-casserole',\n",
       " 'https://cooking.nytimes.com/recipes/1020887-crispy-fried-rice-with-bacon-and-cabbage',\n",
       " 'https://cooking.nytimes.com/recipes/1020892-salmon-with-whole-lemon-dressing',\n",
       " 'https://cooking.nytimes.com/recipes/1020902-caramelized-banana-pudding',\n",
       " 'https://cooking.nytimes.com/recipes/1020901-gyudon']"
      ]
     },
     "execution_count": 103,
     "metadata": {},
     "output_type": "execute_result"
    }
   ],
   "source": [
    "# complete url starts with the https://cooking.nytimes.com\n",
    "recipe_urls = []\n",
    "for item in soup.find_all('article',class_='card recipe-card'):\n",
    "    recipe_urls.append('https://cooking.nytimes.com'+item['data-url'])\n",
    "recipe_urls"
   ]
  },
  {
   "cell_type": "code",
   "execution_count": 104,
   "metadata": {},
   "outputs": [
    {
     "data": {
      "text/plain": [
       "48"
      ]
     },
     "execution_count": 104,
     "metadata": {},
     "output_type": "execute_result"
    }
   ],
   "source": [
    "len(recipe_urls)"
   ]
  },
  {
   "cell_type": "markdown",
   "metadata": {},
   "source": [
    "There are, strangely, 48 results per search page. There are in total more 20,000 results overall, so we can cover all of them in around 420 pages. I'll just try going through 400 since that's a nice even number of pages.\n",
    "\n",
    "Hopefully the results order remains reasonably stable as I go through. After I compile the master list of urls, I'll have to go through it and weed out any duplicates."
   ]
  },
  {
   "cell_type": "code",
   "execution_count": 6,
   "metadata": {},
   "outputs": [],
   "source": [
    "master_recipe_urls = []\n",
    "for n in range(1,400):\n",
    "    url = f'https://cooking.nytimes.com/search?q=&page={n}'\n",
    "    req = session.get(url)\n",
    "    soup = BeautifulSoup(req.text, 'lxml')\n",
    "    \n",
    "\n",
    "    for item in soup.find_all('article',class_='card recipe-card'):\n",
    "        master_recipe_urls.append('https://cooking.nytimes.com'+item['data-url'])\n",
    "        \n",
    "    #And let's sleep for a second in case trip something on the NYT's end\n",
    "\n"
   ]
  },
  {
   "cell_type": "code",
   "execution_count": 7,
   "metadata": {},
   "outputs": [
    {
     "data": {
      "text/plain": [
       "19152"
      ]
     },
     "execution_count": 7,
     "metadata": {},
     "output_type": "execute_result"
    }
   ],
   "source": [
    "len(master_recipe_urls)"
   ]
  },
  {
   "cell_type": "code",
   "execution_count": 108,
   "metadata": {},
   "outputs": [
    {
     "data": {
      "text/plain": [
       "19150"
      ]
     },
     "execution_count": 108,
     "metadata": {},
     "output_type": "execute_result"
    }
   ],
   "source": [
    "len(set(master_recipe_urls))"
   ]
  },
  {
   "cell_type": "markdown",
   "metadata": {},
   "source": [
    "At this point, I threw everything into a .py file to run at the command line.\n",
    "\n",
    "I hate web scraping and digging through html, but the NYT cooking site made it surprisingly easy for me. Thank you NYT! Was that done on purpose, was the site designed to make it easy to collect urls and automatically collect recipe information? I don't know, but I appreciate it nonetheless."
   ]
  },
  {
   "cell_type": "code",
   "execution_count": null,
   "metadata": {},
   "outputs": [],
   "source": [
    "all_recipes = pd.DataFrame()\n",
    "for url in master_recipe_urls:\n",
    "    #This try patch to avoid 'no recipe recipes' with no ingredients or steps\n",
    "    try:\n",
    "        df = pd.DataFrame([recipe_compiler(url)])\n",
    "        all_recipes = pd.concat([all_recipes, df])\n",
    "    except:\n",
    "        pass"
   ]
  },
  {
   "cell_type": "code",
   "execution_count": null,
   "metadata": {},
   "outputs": [],
   "source": []
  }
 ],
 "metadata": {
  "kernelspec": {
   "display_name": "Python 3",
   "language": "python",
   "name": "python3"
  },
  "language_info": {
   "codemirror_mode": {
    "name": "ipython",
    "version": 3
   },
   "file_extension": ".py",
   "mimetype": "text/x-python",
   "name": "python",
   "nbconvert_exporter": "python",
   "pygments_lexer": "ipython3",
   "version": "3.7.1"
  }
 },
 "nbformat": 4,
 "nbformat_minor": 2
}
