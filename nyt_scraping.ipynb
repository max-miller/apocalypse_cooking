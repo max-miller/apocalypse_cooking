{
 "cells": [
  {
   "cell_type": "code",
   "execution_count": 1,
   "metadata": {},
   "outputs": [],
   "source": [
    "import pandas as pd\n",
    "import numpy as np\n",
    "\n",
    "from bs4 import BeautifulSoup\n",
    "import requests\n",
    "import time\n",
    "import datetime"
   ]
  },
  {
   "cell_type": "code",
   "execution_count": 41,
   "metadata": {},
   "outputs": [],
   "source": [
    "session = requests.Session()\n",
    "\n",
    "req = session.get('https://cooking.nytimes.com/recipes/1013062-cuban-black-beans?action=click&region=Sam%20Sifton%27s%20Suggestions&rank=1')\n",
    "soup = BeautifulSoup(req.text, 'lxml')"
   ]
  },
  {
   "cell_type": "code",
   "execution_count": 42,
   "metadata": {},
   "outputs": [
    {
     "data": {
      "text/plain": [
       "'Cuban Black Beans'"
      ]
     },
     "execution_count": 42,
     "metadata": {},
     "output_type": "execute_result"
    }
   ],
   "source": [
    "#find title\n",
    "soup.find('div', class_= 'title-container').get_text().strip()"
   ]
  },
  {
   "cell_type": "code",
   "execution_count": 43,
   "metadata": {},
   "outputs": [
    {
     "data": {
      "text/plain": [
       "['Time', '45 minutes']"
      ]
     },
     "execution_count": 43,
     "metadata": {},
     "output_type": "execute_result"
    }
   ],
   "source": [
    "#find time\n",
    "soup.find('ul', class_= 'recipe-time-yield').find_all('li')[1].get_text().strip().split('\\n')"
   ]
  },
  {
   "cell_type": "code",
   "execution_count": 51,
   "metadata": {},
   "outputs": [
    {
     "data": {
      "text/plain": [
       "5"
      ]
     },
     "execution_count": 51,
     "metadata": {},
     "output_type": "execute_result"
    }
   ],
   "source": [
    "#find star rating\n",
    "int(soup.find('span', itemprop= \"ratingValue\").text)"
   ]
  },
  {
   "cell_type": "code",
   "execution_count": 66,
   "metadata": {},
   "outputs": [
    {
     "data": {
      "text/plain": [
       "['green peppers, stemmed and seeded',\n",
       " 'garlic cloves',\n",
       " 'pound dried black beans, rinsed and picked over to remove any stones',\n",
       " 'smoked ham hock',\n",
       " 'bay leaves',\n",
       " 'teaspoons salt, or to taste',\n",
       " 'cup olive oil',\n",
       " 'slices thick bacon, cut into 1/2-inch pieces',\n",
       " 'Spanish onion, diced',\n",
       " 'jalapeño, stemmed and finely chopped',\n",
       " 'teaspoon dried oregano',\n",
       " 'teaspoon ground cumin',\n",
       " 'teaspoon freshly ground black pepper',\n",
       " 'tablespoons distilled white vinegar',\n",
       " 'tablespoon turbinado or other brown sugar']"
      ]
     },
     "execution_count": 66,
     "metadata": {},
     "output_type": "execute_result"
    }
   ],
   "source": [
    "#list of ingredients\n",
    "items = []\n",
    "for item in soup.find('ul', class_= 'recipe-ingredients').find_all('span', class_='ingredient-name'):\n",
    "    items.append(item.text.strip())\n",
    "\n",
    "items\n"
   ]
  },
  {
   "cell_type": "code",
   "execution_count": 68,
   "metadata": {},
   "outputs": [
    {
     "data": {
      "text/plain": [
       "['1 ½', '10', '1', '1', '2', '5', '¼', '4', '1', '1', '1', '½', '½', '3', '1']"
      ]
     },
     "execution_count": 68,
     "metadata": {},
     "output_type": "execute_result"
    }
   ],
   "source": [
    "counts = []\n",
    "for count in soup.find('ul', class_= 'recipe-ingredients').find_all('span', class_='quantity'):\n",
    "    counts.append(count.text.strip())\n",
    "    \n",
    "counts"
   ]
  },
  {
   "cell_type": "code",
   "execution_count": 71,
   "metadata": {},
   "outputs": [
    {
     "data": {
      "text/plain": [
       "['1 ½ green peppers, stemmed and seeded',\n",
       " '10 garlic cloves',\n",
       " '1 pound dried black beans, rinsed and picked over to remove any stones',\n",
       " '1 smoked ham hock',\n",
       " '2 bay leaves',\n",
       " '5 teaspoons salt, or to taste',\n",
       " '¼ cup olive oil',\n",
       " '4 slices thick bacon, cut into 1/2-inch pieces',\n",
       " '1 Spanish onion, diced',\n",
       " '1 jalapeño, stemmed and finely chopped',\n",
       " '1 teaspoon dried oregano',\n",
       " '½ teaspoon ground cumin',\n",
       " '½ teaspoon freshly ground black pepper',\n",
       " '3 tablespoons distilled white vinegar',\n",
       " '1 tablespoon turbinado or other brown sugar']"
      ]
     },
     "execution_count": 71,
     "metadata": {},
     "output_type": "execute_result"
    }
   ],
   "source": [
    "combined = []\n",
    "for n in range(0,len(items)):\n",
    "    combined.append(counts[n]+' '+items[n])\n",
    "combined"
   ]
  },
  {
   "cell_type": "code",
   "execution_count": 84,
   "metadata": {},
   "outputs": [
    {
     "data": {
      "text/plain": [
       "['Cut 1 green pepper into 1-inch squares. Smash and peel 4 of the garlic cloves. Put the green pepper and garlic into a large pot with the beans, ham hock, bay leaves and 1 tablespoon salt. Add 2 quarts water and bring to a boil. Cover the pot and simmer until the beans are tender, an hour or more.',\n",
       " 'Meanwhile, make a sofrito. Cut the remaining ½ green pepper into ¼-inch dice. Peel and finely chop the remaining garlic. Heat the olive oil in a very large skillet over medium-high heat. Add the bacon and cook, stirring occasionally, until it starts to brown, about 5 minutes. Add the green pepper and onion and cook, stirring, until slightly softened, about 3 minutes. Add the garlic, jalapeño (leave out the seeds if you don’t want it too spicy), oregano, cumin, black pepper and 2 teaspoons salt and stir for another minute. Pour in the vinegar and scrape any browned bits from bottom of pan with a wooden spoon. This is your sofrito.',\n",
       " 'When the beans are cooked, discard the bay leaf. Remove and set aside the ham hock and let it cool. Transfer 1 cup of beans to small bowl, mash them into a paste with the back of a fork and return to the pot. Add the sofrito, then the sugar. Pull the meat from the ham hock, leaving behind any white sinew or gristle. Chop the ham into ½-inch pieces and return it to the bean pot.',\n",
       " 'Stir the beans well and bring to a boil over medium heat, then lower to a simmer and cook, uncovered, for 20 minutes or so, skimming any foam from the top. Taste for salt and serve with white rice.']"
      ]
     },
     "execution_count": 84,
     "metadata": {},
     "output_type": "execute_result"
    }
   ],
   "source": [
    "#cooking steps\n",
    "steps = []\n",
    "\n",
    "for step in soup.find('ol', class_= 'recipe-steps').find_all('li'):\n",
    "    steps.append(step.text)\n",
    "\n",
    "steps"
   ]
  },
  {
   "cell_type": "code",
   "execution_count": 85,
   "metadata": {},
   "outputs": [],
   "source": [
    "def recipe_compiler(url):\n",
    "    req = session.get(url)\n",
    "    soup = BeautifulSoup(req.text, 'lxml')\n",
    "    \n",
    "    title = soup.find('div', class_= 'title-container').get_text().strip()\n",
    "    time = soup.find('ul', class_= 'recipe-time-yield').find_all('li')[1].get_text().strip().split('\\n')[1]\n",
    "    \n",
    "    items = []\n",
    "    for group in soup.find_all('ul', class_= 'recipe-ingredients'):\n",
    "        for item in group.find_all('span', class_='ingredient-name'):\n",
    "            items.append(item.text.strip())\n",
    "            \n",
    "    counts = []\n",
    "    for group in soup.find_all('ul', class_= 'recipe-ingredients'):\n",
    "        for item in group.find_all('span', class_='quantity'):\n",
    "            counts.append(item.text.strip())\n",
    "    \n",
    "    combined = []\n",
    "    for n in range(0,len(items)):\n",
    "        combined.append(counts[n]+' '+items[n])\n",
    "    \n",
    "    steps = []\n",
    "\n",
    "    for step in soup.find('ol', class_= 'recipe-steps').find_all('li'):\n",
    "        steps.append(step.text)\n",
    "    \n",
    "    return {'recipe':title, 'cooking_time':time, 'item_list':combined,'instructions':steps}"
   ]
  },
  {
   "cell_type": "code",
   "execution_count": 86,
   "metadata": {},
   "outputs": [
    {
     "data": {
      "text/plain": [
       "{'recipe': 'Cuban Black Beans',\n",
       " 'cooking_time': '45 minutes',\n",
       " 'item_list': ['1 ½ green peppers, stemmed and seeded',\n",
       "  '10 garlic cloves',\n",
       "  '1 pound dried black beans, rinsed and picked over to remove any stones',\n",
       "  '1 smoked ham hock',\n",
       "  '2 bay leaves',\n",
       "  '5 teaspoons salt, or to taste',\n",
       "  '¼ cup olive oil',\n",
       "  '4 slices thick bacon, cut into 1/2-inch pieces',\n",
       "  '1 Spanish onion, diced',\n",
       "  '1 jalapeño, stemmed and finely chopped',\n",
       "  '1 teaspoon dried oregano',\n",
       "  '½ teaspoon ground cumin',\n",
       "  '½ teaspoon freshly ground black pepper',\n",
       "  '3 tablespoons distilled white vinegar',\n",
       "  '1 tablespoon turbinado or other brown sugar'],\n",
       " 'instructions': ['Cut 1 green pepper into 1-inch squares. Smash and peel 4 of the garlic cloves. Put the green pepper and garlic into a large pot with the beans, ham hock, bay leaves and 1 tablespoon salt. Add 2 quarts water and bring to a boil. Cover the pot and simmer until the beans are tender, an hour or more.',\n",
       "  'Meanwhile, make a sofrito. Cut the remaining ½ green pepper into ¼-inch dice. Peel and finely chop the remaining garlic. Heat the olive oil in a very large skillet over medium-high heat. Add the bacon and cook, stirring occasionally, until it starts to brown, about 5 minutes. Add the green pepper and onion and cook, stirring, until slightly softened, about 3 minutes. Add the garlic, jalapeño (leave out the seeds if you don’t want it too spicy), oregano, cumin, black pepper and 2 teaspoons salt and stir for another minute. Pour in the vinegar and scrape any browned bits from bottom of pan with a wooden spoon. This is your sofrito.',\n",
       "  'When the beans are cooked, discard the bay leaf. Remove and set aside the ham hock and let it cool. Transfer 1 cup of beans to small bowl, mash them into a paste with the back of a fork and return to the pot. Add the sofrito, then the sugar. Pull the meat from the ham hock, leaving behind any white sinew or gristle. Chop the ham into ½-inch pieces and return it to the bean pot.',\n",
       "  'Stir the beans well and bring to a boil over medium heat, then lower to a simmer and cook, uncovered, for 20 minutes or so, skimming any foam from the top. Taste for salt and serve with white rice.']}"
      ]
     },
     "execution_count": 86,
     "metadata": {},
     "output_type": "execute_result"
    }
   ],
   "source": [
    "url = 'https://cooking.nytimes.com/recipes/1013062-cuban-black-beans?action=click&region=Sam%20Sifton%27s%20Suggestions&rank=1'\n",
    "recipe_compiler(url)"
   ]
  },
  {
   "cell_type": "code",
   "execution_count": 89,
   "metadata": {},
   "outputs": [
    {
     "data": {
      "text/html": [
       "<div>\n",
       "<style scoped>\n",
       "    .dataframe tbody tr th:only-of-type {\n",
       "        vertical-align: middle;\n",
       "    }\n",
       "\n",
       "    .dataframe tbody tr th {\n",
       "        vertical-align: top;\n",
       "    }\n",
       "\n",
       "    .dataframe thead th {\n",
       "        text-align: right;\n",
       "    }\n",
       "</style>\n",
       "<table border=\"1\" class=\"dataframe\">\n",
       "  <thead>\n",
       "    <tr style=\"text-align: right;\">\n",
       "      <th></th>\n",
       "      <th>cooking_time</th>\n",
       "      <th>instructions</th>\n",
       "      <th>item_list</th>\n",
       "      <th>recipe</th>\n",
       "    </tr>\n",
       "  </thead>\n",
       "  <tbody>\n",
       "    <tr>\n",
       "      <th>0</th>\n",
       "      <td>1 1/2 hours, plus cooling</td>\n",
       "      <td>[Heat oven to 350 degrees. Grease a 9-by-13-in...</td>\n",
       "      <td>[1 ½ cups/340 grams cold unsalted butter (3 st...</td>\n",
       "      <td>Bittersweet Brownie Shortbread</td>\n",
       "    </tr>\n",
       "  </tbody>\n",
       "</table>\n",
       "</div>"
      ],
      "text/plain": [
       "                cooking_time  \\\n",
       "0  1 1/2 hours, plus cooling   \n",
       "\n",
       "                                        instructions  \\\n",
       "0  [Heat oven to 350 degrees. Grease a 9-by-13-in...   \n",
       "\n",
       "                                           item_list  \\\n",
       "0  [1 ½ cups/340 grams cold unsalted butter (3 st...   \n",
       "\n",
       "                           recipe  \n",
       "0  Bittersweet Brownie Shortbread  "
      ]
     },
     "execution_count": 89,
     "metadata": {},
     "output_type": "execute_result"
    }
   ],
   "source": [
    "url = 'https://cooking.nytimes.com/recipes/1020851-bittersweet-brownie-shortbread?action=click&module=Global%20Search%20Recipe%20Card&pgType=search&rank=74'\n",
    "pd.DataFrame([recipe_compiler(url)])"
   ]
  },
  {
   "cell_type": "code",
   "execution_count": null,
   "metadata": {},
   "outputs": [],
   "source": []
  },
  {
   "cell_type": "code",
   "execution_count": null,
   "metadata": {
    "scrolled": true
   },
   "outputs": [],
   "source": []
  },
  {
   "cell_type": "code",
   "execution_count": null,
   "metadata": {},
   "outputs": [],
   "source": []
  }
 ],
 "metadata": {
  "kernelspec": {
   "display_name": "Python 3",
   "language": "python",
   "name": "python3"
  },
  "language_info": {
   "codemirror_mode": {
    "name": "ipython",
    "version": 3
   },
   "file_extension": ".py",
   "mimetype": "text/x-python",
   "name": "python",
   "nbconvert_exporter": "python",
   "pygments_lexer": "ipython3",
   "version": "3.7.1"
  }
 },
 "nbformat": 4,
 "nbformat_minor": 2
}
